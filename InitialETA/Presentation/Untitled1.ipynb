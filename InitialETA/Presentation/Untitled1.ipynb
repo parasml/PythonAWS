{
 "cells": [
  {
   "cell_type": "code",
   "execution_count": 16,
   "metadata": {},
   "outputs": [],
   "source": [
    "import pyodbc\n",
    "import pandas as pd"
   ]
  },
  {
   "cell_type": "code",
   "execution_count": 17,
   "metadata": {},
   "outputs": [
    {
     "name": "stdout",
     "output_type": "stream",
     "text": [
      "conn =  <pyodbc.Connection object at 0x000002681DF97030>\n"
     ]
    }
   ],
   "source": [
    "conn = pyodbc.connect('Driver={SQL Server};'\n",
    "                      'Server=prod.prismdb.st.com,49415;'\n",
    "                      'Database=PRISMLocalSQLDB;'\n",
    "                      'Trusted_Connection=yes;')\n",
    "print(\"conn = \", conn)\n"
   ]
  },
  {
   "cell_type": "code",
   "execution_count": 18,
   "metadata": {},
   "outputs": [],
   "source": [
    "cursor = conn.cursor()\n"
   ]
  },
  {
   "cell_type": "code",
   "execution_count": 19,
   "metadata": {},
   "outputs": [],
   "source": [
    "query = '''Select ScreeningID as ScreeningID,\n",
    "              ClientReferenceID as IFN_ID,\n",
    "              Region as [State], \n",
    "              County as County, \n",
    "              ScreeningQualifier,\n",
    "ScreeningType,\n",
    "              Req_Created_Date as StartDateTime,\n",
    "              P_Created_Date as PublishDateTime,\n",
    "              ResultStatus,\n",
    "              Vendor\n",
    "from PRISMLocalSQLDB..PrismTransactions with(nolock) \n",
    "where Source_ID=2 and F_Status = 'Y' and Req_Created_Date > '2019-03-01'\n",
    "and Vendor not in ('API_QC_FEDERAL_CIVIL_STATE','QC_AL_STATEWIDE_CIVIL','QC_CA_ORANGE_CIVIL','QC_CA_SAN DIEGO_CIVIL','QC_CT_STATEWIDE_CIVIL','QC_DC_CIVIL','QC_FEDERAL_CIVIL_STATE','QC_FEDERALDISTRICT_CIVIL','QC_KS_JOHNSON_CIVIL','QC_KS_MC_CIVIL','QC_MD_STATEWIDE_CIVIL','QC_NATIONALFEDERAL_CIVIL','QC_TX_COLLIN_CIVIL','QC_TX_DALLAS_CIVIL','QC_TX_DENTON_CIVIL','QC_TX_TARRANT_CIVIL','QC_OFAC ','QC_OIG_SAM ','QC_OIG_SAM_FDA ','QC_SAM ','QC_SAM_FDA ','QC_FDA ','QC_FACIS ','FDI_GLOBEX ','QC_OIG')\n",
    "and isnull(County, '') != '' --is not null\n",
    "               '''"
   ]
  },
  {
   "cell_type": "code",
   "execution_count": 20,
   "metadata": {},
   "outputs": [],
   "source": [
    "df = pd.read_sql(query, conn)\n",
    "\n",
    "#df.head()"
   ]
  },
  {
   "cell_type": "code",
   "execution_count": 22,
   "metadata": {},
   "outputs": [
    {
     "data": {
      "text/plain": [
       "(1109407, 10)"
      ]
     },
     "execution_count": 22,
     "metadata": {},
     "output_type": "execute_result"
    }
   ],
   "source": [
    "df.shape"
   ]
  },
  {
   "cell_type": "code",
   "execution_count": 15,
   "metadata": {},
   "outputs": [],
   "source": [
    "# To close the connection-------------\n",
    "\n",
    "cursor.close()\n",
    "del cursor"
   ]
  },
  {
   "cell_type": "code",
   "execution_count": null,
   "metadata": {},
   "outputs": [],
   "source": []
  }
 ],
 "metadata": {
  "kernelspec": {
   "display_name": "Python 3",
   "language": "python",
   "name": "python3"
  },
  "language_info": {
   "codemirror_mode": {
    "name": "ipython",
    "version": 3
   },
   "file_extension": ".py",
   "mimetype": "text/x-python",
   "name": "python",
   "nbconvert_exporter": "python",
   "pygments_lexer": "ipython3",
   "version": "3.7.1"
  }
 },
 "nbformat": 4,
 "nbformat_minor": 2
}
