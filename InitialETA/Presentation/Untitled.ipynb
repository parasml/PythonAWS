{
 "cells": [
  {
   "cell_type": "code",
   "execution_count": null,
   "metadata": {},
   "outputs": [],
   "source": [
    "dfSkew_Right.head()"
   ]
  },
  {
   "cell_type": "code",
   "execution_count": null,
   "metadata": {},
   "outputs": [],
   "source": [
    "# Remove the upper outliers if their count is less than 20%\n",
    "# Replace their mean with new mean/Median\n",
    "#----------------------\n",
    "df_County_ETA_RightSkew = df_County_ETA_Mean[(df_County_ETA_Mean['UpperOutlierPercentage']  <=  20) & (df_County_ETA_Mean['Skew'] > 0)]\n",
    "df_County_ETA_RightSkew.shape\n",
    "\n",
    "print(\"State-County with 75 percentile as perfect data = \", df_County_ETA_RightSkew.shape[0])\n",
    "\n",
    "#Excluding all the perfect data now----\n",
    "df_County_ETA_Mean = pd.concat([df_County_ETA_Mean, df_County_ETA_RightSkew]).drop_duplicates(keep=False)\n",
    "#df_County_ETA_Mean.shape\n"
   ]
  },
  {
   "cell_type": "code",
   "execution_count": null,
   "metadata": {},
   "outputs": [],
   "source": [
    "# Removing the value above 75 percentile(Right Skew) from original Data\n",
    "#-----------------------------------------------------------------------\n",
    "df_CSV_Right = df_CSV[(df_CSV['State-County'].isin(df_County_ETA_RightSkew['State-County']))]\n",
    "\n",
    "\n",
    "df_Group_State_Right = df_CSV_Right.groupby(['State','County', 'State-County'])\n",
    "\n",
    "# Calculate Mode of ETA and Mode Count\n",
    "#--------------------------------------\n",
    "def CalculateNewMean(x):\n",
    "\n",
    "    upperLimit = x.quantile(.75)\n",
    "    x = x[x <= upperLimit]\n",
    "    \n",
    "    return round(x.mean())\n",
    "\n",
    "# ETA Mode -------\n",
    "ETA_NewMean = df_Group_State_Right['ETA'].apply(lambda x: CalculateNewMean(x))\n"
   ]
  },
  {
   "cell_type": "code",
   "execution_count": null,
   "metadata": {},
   "outputs": [],
   "source": [
    "df_County_ETA_Right = pd.DataFrame(df_Group_State_Right.size().reset_index(name = \"Count\"))\n",
    "df_County_ETA_Right['Mean'] = ETA_NewMean.values\n",
    "df_County_ETA_Right.shape"
   ]
  },
  {
   "cell_type": "code",
   "execution_count": null,
   "metadata": {},
   "outputs": [],
   "source": [
    "df_County_ETA_Right.head(2)"
   ]
  },
  {
   "cell_type": "code",
   "execution_count": null,
   "metadata": {},
   "outputs": [],
   "source": [
    "df_Calculated_ETA = df_Calculated_ETA.append(df_County_ETA_Right[['State', 'County', 'State-County', 'Mean']], sort=False)\n"
   ]
  },
  {
   "cell_type": "code",
   "execution_count": null,
   "metadata": {},
   "outputs": [],
   "source": [
    "#Excluding all the perfect data now----\n",
    "df_County_ETA_Mean = pd.concat([df_County_ETA_Mean, df_County_ETA_Right]).drop_duplicates(keep=False)\n",
    "#df_County_ETA_Mean.shape"
   ]
  },
  {
   "cell_type": "code",
   "execution_count": null,
   "metadata": {},
   "outputs": [],
   "source": [
    "print(tabulate([['Cleaned', df_Calculated_ETA.shape[0]], ['Remainig', df_County_ETA_Mean.shape[0]]], headers=['Name', 'Count']))\n"
   ]
  },
  {
   "cell_type": "code",
   "execution_count": null,
   "metadata": {},
   "outputs": [],
   "source": []
  },
  {
   "cell_type": "code",
   "execution_count": null,
   "metadata": {},
   "outputs": [],
   "source": []
  },
  {
   "cell_type": "code",
   "execution_count": null,
   "metadata": {},
   "outputs": [],
   "source": []
  }
 ],
 "metadata": {
  "kernelspec": {
   "display_name": "Python 3",
   "language": "python",
   "name": "python3"
  },
  "language_info": {
   "codemirror_mode": {
    "name": "ipython",
    "version": 3
   },
   "file_extension": ".py",
   "mimetype": "text/x-python",
   "name": "python",
   "nbconvert_exporter": "python",
   "pygments_lexer": "ipython3",
   "version": "3.7.1"
  }
 },
 "nbformat": 4,
 "nbformat_minor": 2
}
