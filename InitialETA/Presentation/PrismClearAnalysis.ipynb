{
 "cells": [
  {
   "cell_type": "markdown",
   "metadata": {},
   "source": [
    "# Predict ETA (Clear)"
   ]
  },
  {
   "cell_type": "code",
   "execution_count": 2,
   "metadata": {},
   "outputs": [],
   "source": [
    "# Python required libraries\n",
    "#----------------------------\n",
    "import numpy as np\n",
    "import pandas as pd\n",
    "import seaborn as sns\n",
    "import matplotlib.pyplot as plt\n",
    "from matplotlib import mlab\n",
    "\n",
    "import warnings\n",
    "warnings.filterwarnings(\"ignore\")"
   ]
  },
  {
   "cell_type": "markdown",
   "metadata": {},
   "source": [
    "# Loading Clear Data"
   ]
  },
  {
   "cell_type": "code",
   "execution_count": 3,
   "metadata": {},
   "outputs": [],
   "source": [
    "# Loading data(1 month data)\n",
    "#-------------------\n",
    "df_CSV = pd.read_csv('../CSV/Prism/prism_clear.csv')"
   ]
  },
  {
   "cell_type": "code",
   "execution_count": 4,
   "metadata": {
    "scrolled": true
   },
   "outputs": [
    {
     "name": "stdout",
     "output_type": "stream",
     "text": [
      "Total clear observations =  730496\n"
     ]
    },
    {
     "data": {
      "text/html": [
       "<div>\n",
       "<style scoped>\n",
       "    .dataframe tbody tr th:only-of-type {\n",
       "        vertical-align: middle;\n",
       "    }\n",
       "\n",
       "    .dataframe tbody tr th {\n",
       "        vertical-align: top;\n",
       "    }\n",
       "\n",
       "    .dataframe thead th {\n",
       "        text-align: right;\n",
       "    }\n",
       "</style>\n",
       "<table border=\"1\" class=\"dataframe\">\n",
       "  <thead>\n",
       "    <tr style=\"text-align: right;\">\n",
       "      <th></th>\n",
       "      <th>ScreeningID</th>\n",
       "      <th>IFN_ID</th>\n",
       "      <th>State</th>\n",
       "      <th>County</th>\n",
       "      <th>ScreeningQualifier</th>\n",
       "      <th>ScreeningType</th>\n",
       "      <th>StartDateTime</th>\n",
       "      <th>PublishDateTime</th>\n",
       "      <th>ResultStatus</th>\n",
       "      <th>Vendor</th>\n",
       "      <th>State-County</th>\n",
       "      <th>ETA</th>\n",
       "    </tr>\n",
       "  </thead>\n",
       "  <tbody>\n",
       "    <tr>\n",
       "      <th>0</th>\n",
       "      <td>6DBE2AEE-2452-4046-8130-0BB1C10EB334</td>\n",
       "      <td>82902588</td>\n",
       "      <td>ok</td>\n",
       "      <td>pottawatomie</td>\n",
       "      <td>county</td>\n",
       "      <td>criminal</td>\n",
       "      <td>2019-03-30 19:07:57.053</td>\n",
       "      <td>2019-03-30 19:09:03.137</td>\n",
       "      <td>clear</td>\n",
       "      <td>fdi_ok_mc_odcr_smd</td>\n",
       "      <td>ok_pottawatomie</td>\n",
       "      <td>1</td>\n",
       "    </tr>\n",
       "    <tr>\n",
       "      <th>1</th>\n",
       "      <td>A9F22C36-5C6B-4922-A583-6CCEC535B8B6</td>\n",
       "      <td>151553713</td>\n",
       "      <td>ca</td>\n",
       "      <td>nevada</td>\n",
       "      <td>county</td>\n",
       "      <td>criminal</td>\n",
       "      <td>2019-03-30 14:28:58.713</td>\n",
       "      <td>2019-03-30 14:50:43.620</td>\n",
       "      <td>clear</td>\n",
       "      <td>qc_ca_nevada</td>\n",
       "      <td>ca_nevada</td>\n",
       "      <td>21</td>\n",
       "    </tr>\n",
       "    <tr>\n",
       "      <th>2</th>\n",
       "      <td>9E944AFF-DAE3-440D-847C-6EA23B57FB7A</td>\n",
       "      <td>82901164</td>\n",
       "      <td>va</td>\n",
       "      <td>montgomery</td>\n",
       "      <td>county</td>\n",
       "      <td>criminal</td>\n",
       "      <td>2019-03-30 14:57:52.850</td>\n",
       "      <td>2019-03-30 15:03:55.363</td>\n",
       "      <td>clear</td>\n",
       "      <td>fdi_va_mc_rcx</td>\n",
       "      <td>va_montgomery</td>\n",
       "      <td>6</td>\n",
       "    </tr>\n",
       "  </tbody>\n",
       "</table>\n",
       "</div>"
      ],
      "text/plain": [
       "                            ScreeningID     IFN_ID State        County  \\\n",
       "0  6DBE2AEE-2452-4046-8130-0BB1C10EB334   82902588    ok  pottawatomie   \n",
       "1  A9F22C36-5C6B-4922-A583-6CCEC535B8B6  151553713    ca        nevada   \n",
       "2  9E944AFF-DAE3-440D-847C-6EA23B57FB7A   82901164    va    montgomery   \n",
       "\n",
       "  ScreeningQualifier ScreeningType            StartDateTime  \\\n",
       "0             county      criminal  2019-03-30 19:07:57.053   \n",
       "1             county      criminal  2019-03-30 14:28:58.713   \n",
       "2             county      criminal  2019-03-30 14:57:52.850   \n",
       "\n",
       "           PublishDateTime ResultStatus              Vendor     State-County  \\\n",
       "0  2019-03-30 19:09:03.137        clear  fdi_ok_mc_odcr_smd  ok_pottawatomie   \n",
       "1  2019-03-30 14:50:43.620        clear        qc_ca_nevada        ca_nevada   \n",
       "2  2019-03-30 15:03:55.363        clear       fdi_va_mc_rcx    va_montgomery   \n",
       "\n",
       "   ETA  \n",
       "0    1  \n",
       "1   21  \n",
       "2    6  "
      ]
     },
     "execution_count": 4,
     "metadata": {},
     "output_type": "execute_result"
    }
   ],
   "source": [
    "# Checking data\n",
    "#-----------------\n",
    "print(\"Total clear observations = \", df_CSV.shape[0])\n",
    "df_CSV.head(3)"
   ]
  },
  {
   "cell_type": "markdown",
   "metadata": {},
   "source": [
    "# ETA Analysis of ALL (Clear Requests)"
   ]
  },
  {
   "cell_type": "code",
   "execution_count": 5,
   "metadata": {},
   "outputs": [
    {
     "data": {
      "text/plain": [
       "<matplotlib.axes._subplots.AxesSubplot at 0x2195db32198>"
      ]
     },
     "execution_count": 5,
     "metadata": {},
     "output_type": "execute_result"
    },
    {
     "data": {
      "image/png": "[encoded data removed]",
      "text/plain": [
       "<Figure size 432x288 with 1 Axes>"
      ]
     },
     "metadata": {
      "needs_background": "light"
     },
     "output_type": "display_data"
    }
   ],
   "source": [
    "# PLoting hist of ETA less than 10\n",
    "# Outcome: More than half of requests have an ETA less than 1 min.\n",
    "#-----------------------------------\n",
    "df_CSV[df_CSV['ETA'] < 10]['ETA'].hist()"
   ]
  },
  {
   "cell_type": "code",
   "execution_count": 6,
   "metadata": {},
   "outputs": [
    {
     "name": "stdout",
     "output_type": "stream",
     "text": [
      "min =  1\n",
      "max =  8668\n",
      "---------------\n",
      "10    - 1.0\n",
      "20    - 1.0\n",
      "30    - 1.0\n",
      "40    - 1.0\n",
      "50    - 1.0\n",
      "60    - 2.0\n",
      "70    - 4.0\n",
      "80    - 9.0\n",
      "90    - 52.0\n",
      "91    - 64.0\n",
      "92    - 90.0\n",
      "93    - 124.0\n",
      "94    - 170.0\n",
      "95    - 246.0\n",
      "96    - 397.0\n",
      "97    - 528.0\n",
      "98    - 649.0\n",
      "99    - 926.0\n",
      "100    - 8668.0\n"
     ]
    }
   ],
   "source": [
    "# Creating percentile of ETA( Clear )\n",
    "#-------------------------\n",
    "\n",
    "print(\"min = \", df_CSV[\"ETA\"].min())\n",
    "print(\"max = \", df_CSV[\"ETA\"].max())\n",
    "print(\"---------------\")\n",
    "\n",
    "def percentile_show(x):\n",
    "    for per in x:\n",
    "        print(per,\"   -\",np.round(np.percentile(df_CSV[\"ETA\"],per),2))\n",
    "        pass\n",
    "    pass\n",
    "\n",
    "\n",
    "x = [10,20,30,40,50,60,70,80,90,91, 92, 93, 94, 95,96,97,98,99,100]\n",
    "percentile_show(x)\n"
   ]
  },
  {
   "cell_type": "code",
   "execution_count": 7,
   "metadata": {},
   "outputs": [
    {
     "data": {
      "image/png": "[encoded data removed]",
      "text/plain": [
       "<Figure size 432x288 with 1 Axes>"
      ]
     },
     "metadata": {
      "needs_background": "light"
     },
     "output_type": "display_data"
    }
   ],
   "source": [
    "# PLoting ETA (Total) percentile\n",
    "#-----------------------------------\n",
    "\n",
    "#d = np.sort(df_CSV[\"ETA\"]).cumsum()\n",
    "d = np.sort(df_CSV[\"ETA\"])\n",
    "\n",
    "#print(\"d = \", d)\n",
    "# Percentile values\n",
    "p = np.array([0.0, 25.0, 50.0, 75.0, 100.0])\n",
    "\n",
    "perc = mlab.prctile(d, p=p)\n",
    "\n",
    "plt.plot(d)\n",
    "# Place red dots on the percentiles\n",
    "plt.plot((len(d)-1) * p/100., perc, 'ro')\n",
    "\n",
    "# Set tick locations and labels\n",
    "plt.xticks((len(d)-1) * p/100., map(str, p))\n",
    "\n",
    "plt.show()"
   ]
  },
  {
   "cell_type": "markdown",
   "metadata": {},
   "source": [
    "# Group By State-County"
   ]
  },
  {
   "cell_type": "code",
   "execution_count": 8,
   "metadata": {},
   "outputs": [
    {
     "data": {
      "text/plain": [
       "<pandas.core.groupby.groupby.DataFrameGroupBy object at 0x000002195DBC0EF0>"
      ]
     },
     "execution_count": 8,
     "metadata": {},
     "output_type": "execute_result"
    }
   ],
   "source": [
    "# Split clear data state-county wise\n",
    "#------------------------------------------\n",
    "\n",
    "#df_CSV.groupby(['State','State-County'])['ETA'].mean()\n",
    "\n",
    "df_Group_State = df_CSV.groupby(['State','County', 'State-County'])\n",
    "\n",
    "df_Group_State"
   ]
  },
  {
   "cell_type": "code",
   "execution_count": 9,
   "metadata": {},
   "outputs": [
    {
     "name": "stdout",
     "output_type": "stream",
     "text": [
      "Total State-county counts=  1703\n"
     ]
    }
   ],
   "source": [
    "# Get Statistics of each state-county ETA\n",
    "#----------------------------------------------\n",
    "import math\n",
    "\n",
    "# ETA Mean -------\n",
    "ETA_Mean = round(df_Group_State['ETA'].mean())\n",
    "#print(\"ETA_Mean.shape = \", ETA_Mean.shape)\n",
    "\n",
    "# ETA Median -------\n",
    "ETA_Median = round(df_Group_State['ETA'].median())\n",
    "\n",
    "# ETA Kurt --------\n",
    "#ETA_Kurt = df_Group_State['ETA'].apply(pd.DataFrame.kurt)\n",
    "\n",
    "# Eta Skew-------\n",
    "ETA_Skew = df_Group_State['ETA'].apply(pd.DataFrame.skew)\n",
    "\n",
    "# Eta Count------\n",
    "ETA_Count = df_Group_State['ETA'].count()\n",
    "\n",
    "# ETA Max --------\n",
    "ETA_Max = round(df_Group_State['ETA'].max())\n",
    "\n",
    "\n",
    "# ETA Percentile (25%)--------\n",
    "ETA_Quantile_25 = round(df_Group_State[\"ETA\"].quantile(0.25))\n",
    "\n",
    "\n",
    "# ETA Percentile (75%)--------\n",
    "ETA_Quantile_75 = round(df_Group_State[\"ETA\"].quantile(0.75))\n",
    "\n",
    "# ETA Percentile (80%)--------\n",
    "ETA_Quantile_80 = round(df_Group_State[\"ETA\"].quantile(0.80))\n",
    "\n",
    "# ETA Percentile (90%)--------\n",
    "ETA_Quantile_90 = round(df_Group_State[\"ETA\"].quantile(0.90))\n",
    "\n",
    "# ETA Percentile (95%)--------\n",
    "ETA_Quantile_95 = round(df_Group_State[\"ETA\"].quantile(0.95))\n",
    "#print(\"ETA_Quantile.shape = \", ETA_Quantile.shape)\n",
    "\n",
    "# ETA Percentile (99%)--------\n",
    "ETA_Quantile_99 = round(df_Group_State[\"ETA\"].quantile(0.99))\n",
    "#print(\"ETA_Quantile.shape = \", ETA_Quantile.shape)\n",
    "\n",
    "# ETA IQR (Interquartile Range)-------\n",
    "ETA_IQR = round((ETA_Quantile_75 - ETA_Quantile_25)*1.5)\n",
    "#ETA_IQR\n",
    "\n",
    "# Lower and Upper Outliers--------\n",
    "\n",
    "ETA_LowerOutlier = ETA_Quantile_25 - ETA_IQR\n",
    "ETA_LowerOutlier = ETA_LowerOutlier.apply(lambda x: 0 if x < 0 else x)\n",
    "\n",
    "ETA_UpperOutlier = ETA_Quantile_75 + ETA_IQR\n",
    "#ETA_LowerOutlier = ETA_UpperOutlier.apply(lambda x: 0 if x >= ETA_Max else x)\n",
    "\n",
    "\n",
    "\n",
    "print(\"Total State-county counts= \", ETA_Mean.shape[0])"
   ]
  },
  {
   "cell_type": "code",
   "execution_count": 10,
   "metadata": {},
   "outputs": [
    {
     "data": {
      "text/plain": [
       "State  County                State-County           \n",
       "ak     aleutians east        ak_aleutians east            5.692286\n",
       "       aleutians west        ak_aleutians west            2.042999\n",
       "       anchorage             ak_anchorage                 3.543797\n",
       "       fairbanks north star  ak_fairbanks north star      4.420825\n",
       "       juneau                ak_juneau                    3.551736\n",
       "       kenai peninsula       ak_kenai peninsula           2.658574\n",
       "       ketchikan gateway     ak_ketchikan gateway         4.884270\n",
       "       kodiak island         ak_kodiak island             3.529185\n",
       "       matanuska susitna     ak_matanuska susitna         4.773398\n",
       "       north slope           ak_north slope               2.887906\n",
       "       sitka                 ak_sitka                     3.663124\n",
       "       valdez cordova        ak_valdez cordova            1.043185\n",
       "al     autauga               al_autauga                 194.478861\n",
       "       baldwin               al_baldwin                 183.638978\n",
       "       barbour               al_barbour                 185.579829\n",
       "       bibb                  al_bibb                    147.247818\n",
       "       blount                al_blount                  145.457299\n",
       "       bullock               al_bullock                 147.375887\n",
       "       butler                al_butler                  155.484603\n",
       "       calhoun               al_calhoun                 147.803051\n",
       "       chambers              al_chambers                194.446700\n",
       "       cherokee              al_cherokee                145.256296\n",
       "       chilton               al_chilton                 195.372471\n",
       "       choctaw               al_choctaw                 127.896930\n",
       "       clarke                al_clarke                  190.131184\n",
       "       clay                  al_clay                    153.525644\n",
       "       cleburne              al_cleburne                188.257897\n",
       "       coffee                al_coffee                  182.530565\n",
       "       colbert               al_colbert                 190.575201\n",
       "       conecuh               al_conecuh                 103.735920\n",
       "                                                           ...    \n",
       "wi     milwaukee             wi_milwaukee                 2.360706\n",
       "       monroe                wi_monroe                    1.524795\n",
       "       oconto                wi_oconto                    1.421326\n",
       "       oneida                wi_oneida                    0.930605\n",
       "       outagamie             wi_outagamie                 1.545007\n",
       "       ozaukee               wi_ozaukee                   1.330934\n",
       "       pierce                wi_pierce                    1.308235\n",
       "       polk                  wi_polk                      1.320227\n",
       "       price                 wi_price                     1.968603\n",
       "       racine                wi_racine                    1.457686\n",
       "       richland              wi_richland                  0.937614\n",
       "       rock                  wi_rock                      2.111615\n",
       "       rusk                  wi_rusk                      1.552264\n",
       "       sauk                  wi_sauk                      1.449433\n",
       "       sawyer                wi_sawyer                    0.957194\n",
       "       shawano               wi_shawano                   2.509945\n",
       "       sheboygan             wi_sheboygan                 1.511115\n",
       "       st croix              wi_st croix                  1.246041\n",
       "       taylor                wi_taylor                    1.274018\n",
       "       trempealeau           wi_trempealeau               1.554871\n",
       "       vernon                wi_vernon                    0.249731\n",
       "       vilas                 wi_vilas                     0.663892\n",
       "       walworth              wi_walworth                  1.827027\n",
       "       washburn              wi_washburn                  1.802115\n",
       "       washington            wi_washington                1.273853\n",
       "       waukesha              wi_waukesha                  1.679904\n",
       "       waupaca               wi_waupaca                   1.688689\n",
       "       waushara              wi_waushara                  1.423250\n",
       "       winnebago             wi_winnebago                 1.866617\n",
       "       wood                  wi_wood                      1.339511\n",
       "Name: ETA, Length: 1703, dtype: float64"
      ]
     },
     "execution_count": 10,
     "metadata": {},
     "output_type": "execute_result"
    }
   ],
   "source": [
    "\n",
    "ETA_STD = df_Group_State['ETA'].std()\n",
    "\n",
    "ETA_STD"
   ]
  },
  {
   "cell_type": "code",
   "execution_count": 11,
   "metadata": {},
   "outputs": [],
   "source": [
    "# Calculate Mode of ETA and Mode Count\n",
    "#--------------------------------------\n",
    "def CalculateMode(x):\n",
    "    #print(x)\n",
    "    #maxValue = x.value_counts().max()\n",
    "    idValue = x.value_counts().idxmax()\n",
    "    #print(\"maxValue\", maxValue)\n",
    "    #print(\"idValue\", idValue)\n",
    "    #print(\"--------\")\n",
    "    #print(x.value_counts())\n",
    "    return idValue\n",
    "\n",
    "def CalculateModeValueCount(x):\n",
    "\n",
    "    maxValue = x.value_counts().max()\n",
    "    return maxValue\n",
    "\n",
    "# ETA Mode -------\n",
    "ETA_Mode = df_Group_State['ETA'].apply(lambda x: CalculateMode(x))\n",
    "\n",
    "# ETA Mode Value Count -------\n",
    "ETA_Mode_Count = df_Group_State['ETA'].apply(lambda x: CalculateModeValueCount(x))\n",
    "\n",
    "\n",
    "ETA_ModePercentage = (ETA_Mode_Count/ETA_Count)*100\n",
    "#ETA_ModePercentage"
   ]
  },
  {
   "cell_type": "code",
   "execution_count": 12,
   "metadata": {},
   "outputs": [],
   "source": [
    "# Calculate count percentage of outliers\n",
    "# Percentage of request counts above 'Upper Quartile Range' and below 'Below Quartile Range'\n",
    "#-----------------------------------------------------------------------------------------\n",
    "\n",
    "def CalculateIQRPercentile(x, isUpper):\n",
    "    \n",
    "    quant75 = x.quantile(0.75)\n",
    "    quant25 = x.quantile(0.25)\n",
    "    \n",
    "    ETA_IQR = round((quant75 - quant25)*1.5)\n",
    "    \n",
    "    UpperIQR = quant75 + ETA_IQR\n",
    "    LowerIQR = quant25 - ETA_IQR\n",
    "    \n",
    "    if isUpper== True:\n",
    "        y = x[x > UpperIQR]\n",
    "    else:\n",
    "        y = x[x < LowerIQR]\n",
    "        \n",
    "    count = y.shape[0]\n",
    "    count1 = x.shape[0]\n",
    "    percent = (count/count1)*100\n",
    "    #print(y.shape[0])\n",
    "    return percent\n",
    "\n",
    "# ETA percentile count -------\n",
    "ETA_UpperOutlierPercentage = df_Group_State['ETA'].apply(lambda x: CalculateIQRPercentile(x, True))\n",
    "ETA_LowerOutlierPercentage = df_Group_State['ETA'].apply(lambda x: CalculateIQRPercentile(x, False))\n"
   ]
  },
  {
   "cell_type": "code",
   "execution_count": 13,
   "metadata": {},
   "outputs": [],
   "source": [
    "# Creating a DataFrame of all unique Groups (State and County) and their findings\n",
    "#---------------------------------------------------------\n",
    "df_County_ETA = pd.DataFrame(df_Group_State.size().reset_index(name = \"Count\"))\n",
    "\n",
    "#print(\"ETA_Mean = \", type(ETA_Mean))\n",
    "\n",
    "# Adding Mean, Max and Quantile to dataframe-----\n",
    "df_County_ETA['Mean'] = ETA_Mean.values\n",
    "\n",
    "df_County_ETA['Median'] = ETA_Median.values\n",
    "\n",
    "#df_County_ETA['Skew'] = df_County_ETA['Mean'] - df_County_ETA['Median'] \n",
    "\n",
    "df_County_ETA['Skew'] =  ETA_Skew.values\n",
    "\n",
    "df_County_ETA['Mode'] = ETA_Mode.values\n",
    "\n",
    "df_County_ETA['ModeCount'] = ETA_Mode_Count.values\n",
    "\n",
    "df_County_ETA['ModePercentage'] = ETA_ModePercentage.values\n",
    "\n",
    "df_County_ETA['Max'] = ETA_Max.values\n",
    "\n",
    "df_County_ETA['Quant_25'] = ETA_Quantile_25.values\n",
    "\n",
    "df_County_ETA['Quant_75'] = ETA_Quantile_75.values\n",
    "\n",
    "df_County_ETA['Quant_80'] = ETA_Quantile_80.values\n",
    "\n",
    "df_County_ETA['Quant_90'] = ETA_Quantile_90.values\n",
    "\n",
    "df_County_ETA['Quant_95'] = ETA_Quantile_95.values\n",
    "\n",
    "df_County_ETA['Quant_99'] = ETA_Quantile_99.values\n",
    "\n",
    "df_County_ETA['IQR'] = ETA_IQR.values\n",
    "\n",
    "df_County_ETA['LowerOutlier'] = ETA_LowerOutlier.values\n",
    "\n",
    "df_County_ETA['LowerOutlierPercentage'] = ETA_LowerOutlierPercentage.values\n",
    "\n",
    "df_County_ETA['UpperOutlier'] = ETA_UpperOutlier.values\n",
    "\n",
    "df_County_ETA['UpperOutlierPercentage'] = ETA_UpperOutlierPercentage.values\n",
    "\n"
   ]
  },
  {
   "cell_type": "code",
   "execution_count": 14,
   "metadata": {},
   "outputs": [],
   "source": [
    "# df_County_ETA.head()"
   ]
  },
  {
   "cell_type": "code",
   "execution_count": 15,
   "metadata": {},
   "outputs": [
    {
     "name": "stdout",
     "output_type": "stream",
     "text": [
      "Skew       Value\n",
      "-------  -------\n",
      "Zero           2\n",
      "Greater     1643\n",
      "lesser        58\n",
      "Total       1703\n"
     ]
    }
   ],
   "source": [
    "# Skew Data Details\n",
    "#--------------------\n",
    "dfSkew_Perfect = df_County_ETA[df_County_ETA['Skew'] == 0]\n",
    "\n",
    "dfSkew_Left = df_County_ETA[df_County_ETA['Skew']<0]\n",
    "\n",
    "dfSkew_Right = df_County_ETA[df_County_ETA['Skew']>0]\n",
    "\n",
    "\n",
    "from tabulate import tabulate\n",
    "print(tabulate([['Zero', dfSkew_Perfect.shape[0]], ['Greater', dfSkew_Right.shape[0]], ['lesser', dfSkew_Left.shape[0]], ['Total', df_County_ETA.shape[0]]], headers=['Skew', 'Value']))\n"
   ]
  },
  {
   "cell_type": "markdown",
   "metadata": {},
   "source": [
    "# Statistical Calculations Analysis"
   ]
  },
  {
   "cell_type": "code",
   "execution_count": 16,
   "metadata": {},
   "outputs": [],
   "source": [
    "# Creating a new Dataframe\n",
    "\n",
    "df_Calculated_ETA = pd.DataFrame()"
   ]
  },
  {
   "cell_type": "code",
   "execution_count": 17,
   "metadata": {
    "scrolled": true
   },
   "outputs": [
    {
     "data": {
      "text/html": [
       "<div>\n",
       "<style scoped>\n",
       "    .dataframe tbody tr th:only-of-type {\n",
       "        vertical-align: middle;\n",
       "    }\n",
       "\n",
       "    .dataframe tbody tr th {\n",
       "        vertical-align: top;\n",
       "    }\n",
       "\n",
       "    .dataframe thead th {\n",
       "        text-align: right;\n",
       "    }\n",
       "</style>\n",
       "<table border=\"1\" class=\"dataframe\">\n",
       "  <thead>\n",
       "    <tr style=\"text-align: right;\">\n",
       "      <th></th>\n",
       "      <th>State</th>\n",
       "      <th>County</th>\n",
       "      <th>State-County</th>\n",
       "      <th>Count</th>\n",
       "      <th>Mean</th>\n",
       "      <th>Median</th>\n",
       "      <th>Skew</th>\n",
       "      <th>Mode</th>\n",
       "      <th>ModeCount</th>\n",
       "      <th>ModePercentage</th>\n",
       "      <th>...</th>\n",
       "      <th>Quant_75</th>\n",
       "      <th>Quant_80</th>\n",
       "      <th>Quant_90</th>\n",
       "      <th>Quant_95</th>\n",
       "      <th>Quant_99</th>\n",
       "      <th>IQR</th>\n",
       "      <th>LowerOutlier</th>\n",
       "      <th>LowerOutlierPercentage</th>\n",
       "      <th>UpperOutlier</th>\n",
       "      <th>UpperOutlierPercentage</th>\n",
       "    </tr>\n",
       "  </thead>\n",
       "  <tbody>\n",
       "    <tr>\n",
       "      <th>0</th>\n",
       "      <td>ak</td>\n",
       "      <td>aleutians east</td>\n",
       "      <td>ak_aleutians east</td>\n",
       "      <td>28</td>\n",
       "      <td>3.0</td>\n",
       "      <td>1.0</td>\n",
       "      <td>3.338716</td>\n",
       "      <td>1</td>\n",
       "      <td>21</td>\n",
       "      <td>75.000000</td>\n",
       "      <td>...</td>\n",
       "      <td>2.0</td>\n",
       "      <td>5.0</td>\n",
       "      <td>10.0</td>\n",
       "      <td>10.0</td>\n",
       "      <td>23.0</td>\n",
       "      <td>2.0</td>\n",
       "      <td>0.0</td>\n",
       "      <td>0.0</td>\n",
       "      <td>4.0</td>\n",
       "      <td>25.000000</td>\n",
       "    </tr>\n",
       "    <tr>\n",
       "      <th>1</th>\n",
       "      <td>ak</td>\n",
       "      <td>aleutians west</td>\n",
       "      <td>ak_aleutians west</td>\n",
       "      <td>26</td>\n",
       "      <td>2.0</td>\n",
       "      <td>1.0</td>\n",
       "      <td>3.401798</td>\n",
       "      <td>1</td>\n",
       "      <td>24</td>\n",
       "      <td>92.307692</td>\n",
       "      <td>...</td>\n",
       "      <td>1.0</td>\n",
       "      <td>1.0</td>\n",
       "      <td>1.0</td>\n",
       "      <td>6.0</td>\n",
       "      <td>9.0</td>\n",
       "      <td>0.0</td>\n",
       "      <td>1.0</td>\n",
       "      <td>0.0</td>\n",
       "      <td>1.0</td>\n",
       "      <td>7.692308</td>\n",
       "    </tr>\n",
       "    <tr>\n",
       "      <th>2</th>\n",
       "      <td>ak</td>\n",
       "      <td>anchorage</td>\n",
       "      <td>ak_anchorage</td>\n",
       "      <td>786</td>\n",
       "      <td>2.0</td>\n",
       "      <td>1.0</td>\n",
       "      <td>4.634576</td>\n",
       "      <td>1</td>\n",
       "      <td>577</td>\n",
       "      <td>73.409669</td>\n",
       "      <td>...</td>\n",
       "      <td>2.0</td>\n",
       "      <td>2.0</td>\n",
       "      <td>5.0</td>\n",
       "      <td>7.0</td>\n",
       "      <td>22.0</td>\n",
       "      <td>2.0</td>\n",
       "      <td>0.0</td>\n",
       "      <td>0.0</td>\n",
       "      <td>4.0</td>\n",
       "      <td>12.213740</td>\n",
       "    </tr>\n",
       "    <tr>\n",
       "      <th>3</th>\n",
       "      <td>ak</td>\n",
       "      <td>fairbanks north star</td>\n",
       "      <td>ak_fairbanks north star</td>\n",
       "      <td>332</td>\n",
       "      <td>3.0</td>\n",
       "      <td>1.0</td>\n",
       "      <td>4.338389</td>\n",
       "      <td>1</td>\n",
       "      <td>243</td>\n",
       "      <td>73.192771</td>\n",
       "      <td>...</td>\n",
       "      <td>2.0</td>\n",
       "      <td>3.0</td>\n",
       "      <td>6.0</td>\n",
       "      <td>8.0</td>\n",
       "      <td>28.0</td>\n",
       "      <td>2.0</td>\n",
       "      <td>0.0</td>\n",
       "      <td>0.0</td>\n",
       "      <td>4.0</td>\n",
       "      <td>13.855422</td>\n",
       "    </tr>\n",
       "    <tr>\n",
       "      <th>4</th>\n",
       "      <td>ak</td>\n",
       "      <td>juneau</td>\n",
       "      <td>ak_juneau</td>\n",
       "      <td>72</td>\n",
       "      <td>3.0</td>\n",
       "      <td>1.0</td>\n",
       "      <td>2.651252</td>\n",
       "      <td>1</td>\n",
       "      <td>50</td>\n",
       "      <td>69.444444</td>\n",
       "      <td>...</td>\n",
       "      <td>2.0</td>\n",
       "      <td>4.0</td>\n",
       "      <td>7.0</td>\n",
       "      <td>10.0</td>\n",
       "      <td>16.0</td>\n",
       "      <td>2.0</td>\n",
       "      <td>0.0</td>\n",
       "      <td>0.0</td>\n",
       "      <td>4.0</td>\n",
       "      <td>18.055556</td>\n",
       "    </tr>\n",
       "  </tbody>\n",
       "</table>\n",
       "<p>5 rows × 22 columns</p>\n",
       "</div>"
      ],
      "text/plain": [
       "  State                County             State-County  Count  Mean  Median  \\\n",
       "0    ak        aleutians east        ak_aleutians east     28   3.0     1.0   \n",
       "1    ak        aleutians west        ak_aleutians west     26   2.0     1.0   \n",
       "2    ak             anchorage             ak_anchorage    786   2.0     1.0   \n",
       "3    ak  fairbanks north star  ak_fairbanks north star    332   3.0     1.0   \n",
       "4    ak                juneau                ak_juneau     72   3.0     1.0   \n",
       "\n",
       "       Skew  Mode  ModeCount  ModePercentage           ...            \\\n",
       "0  3.338716     1         21       75.000000           ...             \n",
       "1  3.401798     1         24       92.307692           ...             \n",
       "2  4.634576     1        577       73.409669           ...             \n",
       "3  4.338389     1        243       73.192771           ...             \n",
       "4  2.651252     1         50       69.444444           ...             \n",
       "\n",
       "   Quant_75  Quant_80  Quant_90  Quant_95  Quant_99  IQR  LowerOutlier  \\\n",
       "0       2.0       5.0      10.0      10.0      23.0  2.0           0.0   \n",
       "1       1.0       1.0       1.0       6.0       9.0  0.0           1.0   \n",
       "2       2.0       2.0       5.0       7.0      22.0  2.0           0.0   \n",
       "3       2.0       3.0       6.0       8.0      28.0  2.0           0.0   \n",
       "4       2.0       4.0       7.0      10.0      16.0  2.0           0.0   \n",
       "\n",
       "   LowerOutlierPercentage  UpperOutlier  UpperOutlierPercentage  \n",
       "0                     0.0           4.0               25.000000  \n",
       "1                     0.0           1.0                7.692308  \n",
       "2                     0.0           4.0               12.213740  \n",
       "3                     0.0           4.0               13.855422  \n",
       "4                     0.0           4.0               18.055556  \n",
       "\n",
       "[5 rows x 22 columns]"
      ]
     },
     "execution_count": 17,
     "metadata": {},
     "output_type": "execute_result"
    }
   ],
   "source": [
    "df_County_ETA.shape\n",
    "\n",
    "df_County_ETA.head()"
   ]
  },
  {
   "cell_type": "code",
   "execution_count": 18,
   "metadata": {},
   "outputs": [],
   "source": [
    "df_County_ETA_Mean = df_County_ETA"
   ]
  },
  {
   "cell_type": "markdown",
   "metadata": {},
   "source": [
    "# Perfect Data"
   ]
  },
  {
   "cell_type": "code",
   "execution_count": 19,
   "metadata": {},
   "outputs": [
    {
     "data": {
      "text/html": [
       "<div>\n",
       "<style scoped>\n",
       "    .dataframe tbody tr th:only-of-type {\n",
       "        vertical-align: middle;\n",
       "    }\n",
       "\n",
       "    .dataframe tbody tr th {\n",
       "        vertical-align: top;\n",
       "    }\n",
       "\n",
       "    .dataframe thead th {\n",
       "        text-align: right;\n",
       "    }\n",
       "</style>\n",
       "<table border=\"1\" class=\"dataframe\">\n",
       "  <thead>\n",
       "    <tr style=\"text-align: right;\">\n",
       "      <th></th>\n",
       "      <th>State</th>\n",
       "      <th>County</th>\n",
       "      <th>State-County</th>\n",
       "      <th>Count</th>\n",
       "      <th>Mean</th>\n",
       "      <th>Median</th>\n",
       "      <th>Skew</th>\n",
       "      <th>Mode</th>\n",
       "      <th>ModeCount</th>\n",
       "      <th>ModePercentage</th>\n",
       "      <th>...</th>\n",
       "      <th>Quant_75</th>\n",
       "      <th>Quant_80</th>\n",
       "      <th>Quant_90</th>\n",
       "      <th>Quant_95</th>\n",
       "      <th>Quant_99</th>\n",
       "      <th>IQR</th>\n",
       "      <th>LowerOutlier</th>\n",
       "      <th>LowerOutlierPercentage</th>\n",
       "      <th>UpperOutlier</th>\n",
       "      <th>UpperOutlierPercentage</th>\n",
       "    </tr>\n",
       "  </thead>\n",
       "  <tbody>\n",
       "    <tr>\n",
       "      <th>405</th>\n",
       "      <td>il</td>\n",
       "      <td>alexander</td>\n",
       "      <td>il_alexander</td>\n",
       "      <td>12</td>\n",
       "      <td>1.0</td>\n",
       "      <td>1.0</td>\n",
       "      <td>0.0</td>\n",
       "      <td>1</td>\n",
       "      <td>12</td>\n",
       "      <td>100.0</td>\n",
       "      <td>...</td>\n",
       "      <td>1.0</td>\n",
       "      <td>1.0</td>\n",
       "      <td>1.0</td>\n",
       "      <td>1.0</td>\n",
       "      <td>1.0</td>\n",
       "      <td>0.0</td>\n",
       "      <td>1.0</td>\n",
       "      <td>0.0</td>\n",
       "      <td>1.0</td>\n",
       "      <td>0.0</td>\n",
       "    </tr>\n",
       "    <tr>\n",
       "      <th>1463</th>\n",
       "      <td>ut</td>\n",
       "      <td>carbon</td>\n",
       "      <td>ut_carbon</td>\n",
       "      <td>30</td>\n",
       "      <td>1.0</td>\n",
       "      <td>1.0</td>\n",
       "      <td>0.0</td>\n",
       "      <td>1</td>\n",
       "      <td>30</td>\n",
       "      <td>100.0</td>\n",
       "      <td>...</td>\n",
       "      <td>1.0</td>\n",
       "      <td>1.0</td>\n",
       "      <td>1.0</td>\n",
       "      <td>1.0</td>\n",
       "      <td>1.0</td>\n",
       "      <td>0.0</td>\n",
       "      <td>1.0</td>\n",
       "      <td>0.0</td>\n",
       "      <td>1.0</td>\n",
       "      <td>0.0</td>\n",
       "    </tr>\n",
       "  </tbody>\n",
       "</table>\n",
       "<p>2 rows × 22 columns</p>\n",
       "</div>"
      ],
      "text/plain": [
       "     State     County  State-County  Count  Mean  Median  Skew  Mode  \\\n",
       "405     il  alexander  il_alexander     12   1.0     1.0   0.0     1   \n",
       "1463    ut     carbon     ut_carbon     30   1.0     1.0   0.0     1   \n",
       "\n",
       "      ModeCount  ModePercentage           ...            Quant_75  Quant_80  \\\n",
       "405          12           100.0           ...                 1.0       1.0   \n",
       "1463         30           100.0           ...                 1.0       1.0   \n",
       "\n",
       "      Quant_90  Quant_95  Quant_99  IQR  LowerOutlier  LowerOutlierPercentage  \\\n",
       "405        1.0       1.0       1.0  0.0           1.0                     0.0   \n",
       "1463       1.0       1.0       1.0  0.0           1.0                     0.0   \n",
       "\n",
       "      UpperOutlier  UpperOutlierPercentage  \n",
       "405            1.0                     0.0  \n",
       "1463           1.0                     0.0  \n",
       "\n",
       "[2 rows x 22 columns]"
      ]
     },
     "execution_count": 19,
     "metadata": {},
     "output_type": "execute_result"
    }
   ],
   "source": [
    "# Perfect Data\n",
    "#---------------\n",
    "\n",
    "dfSkew_Perfect.head()"
   ]
  },
  {
   "cell_type": "code",
   "execution_count": 20,
   "metadata": {},
   "outputs": [
    {
     "data": {
      "text/plain": [
       "(1701, 22)"
      ]
     },
     "execution_count": 20,
     "metadata": {},
     "output_type": "execute_result"
    }
   ],
   "source": [
    "# Taking Mean ETA for perfect data\n",
    "#-----------------------------------------\n",
    "df_Skew = df_County_ETA_Mean[df_County_ETA['Skew'] == 0]\n",
    "#df_Calculated_ETA = df_Skew\n",
    "df_Calculated_ETA = df_Calculated_ETA.append(df_Skew[['State', 'County', 'State-County', 'Mean']], sort=False)\n",
    "\n",
    "#print(\"State-county having perfect data = \", df_Skew.shape[0])\n",
    "\n",
    "#Excluding all the perfect data now----\n",
    "df_County_ETA_Mean = df_County_ETA_Mean[df_County_ETA['Skew'] != 0]\n",
    "df_County_ETA_Mean.shape\n",
    "#print(\"State-county having outliers = \", df_County_ETA_Mean.shape[0])"
   ]
  },
  {
   "cell_type": "code",
   "execution_count": 21,
   "metadata": {},
   "outputs": [
    {
     "name": "stdout",
     "output_type": "stream",
     "text": [
      "Name        Count\n",
      "--------  -------\n",
      "Cleaned         2\n",
      "Remainig     1701\n"
     ]
    }
   ],
   "source": [
    "print(tabulate([['Cleaned', df_Calculated_ETA.shape[0]], ['Remainig', df_County_ETA_Mean.shape[0]]], headers=['Name', 'Count']))\n"
   ]
  },
  {
   "cell_type": "markdown",
   "metadata": {},
   "source": [
    "# Mode count values with greater than 80%"
   ]
  },
  {
   "cell_type": "code",
   "execution_count": 22,
   "metadata": {},
   "outputs": [
    {
     "name": "stdout",
     "output_type": "stream",
     "text": [
      "State-county having mode greater than 80%  =  199\n"
     ]
    }
   ],
   "source": [
    "# Taking Mode, if Mode value count is above 80%\n",
    "#-------------------------\n",
    "df_Mode = df_County_ETA_Mean[df_County_ETA_Mean['ModePercentage'] >= 80]\n",
    "\n",
    "print(\"State-county having mode greater than 80%  = \", df_Mode.shape[0])\n",
    "\n",
    "df_Calculated_ETA = df_Calculated_ETA.append(df_Mode[['State', 'County', 'State-County', 'Mean']], sort=False)\n",
    "\n",
    "\n",
    "#Excluding all the perfect data now----\n",
    "df_County_ETA_Mean = df_County_ETA_Mean[df_County_ETA['ModePercentage'] < 80]"
   ]
  },
  {
   "cell_type": "code",
   "execution_count": 23,
   "metadata": {},
   "outputs": [
    {
     "data": {
      "text/html": [
       "<div>\n",
       "<style scoped>\n",
       "    .dataframe tbody tr th:only-of-type {\n",
       "        vertical-align: middle;\n",
       "    }\n",
       "\n",
       "    .dataframe tbody tr th {\n",
       "        vertical-align: top;\n",
       "    }\n",
       "\n",
       "    .dataframe thead th {\n",
       "        text-align: right;\n",
       "    }\n",
       "</style>\n",
       "<table border=\"1\" class=\"dataframe\">\n",
       "  <thead>\n",
       "    <tr style=\"text-align: right;\">\n",
       "      <th></th>\n",
       "      <th>State</th>\n",
       "      <th>County</th>\n",
       "      <th>State-County</th>\n",
       "      <th>Count</th>\n",
       "      <th>Mean</th>\n",
       "      <th>Median</th>\n",
       "      <th>Skew</th>\n",
       "      <th>Mode</th>\n",
       "      <th>ModeCount</th>\n",
       "      <th>ModePercentage</th>\n",
       "      <th>...</th>\n",
       "      <th>Quant_75</th>\n",
       "      <th>Quant_80</th>\n",
       "      <th>Quant_90</th>\n",
       "      <th>Quant_95</th>\n",
       "      <th>Quant_99</th>\n",
       "      <th>IQR</th>\n",
       "      <th>LowerOutlier</th>\n",
       "      <th>LowerOutlierPercentage</th>\n",
       "      <th>UpperOutlier</th>\n",
       "      <th>UpperOutlierPercentage</th>\n",
       "    </tr>\n",
       "  </thead>\n",
       "  <tbody>\n",
       "    <tr>\n",
       "      <th>1</th>\n",
       "      <td>ak</td>\n",
       "      <td>aleutians west</td>\n",
       "      <td>ak_aleutians west</td>\n",
       "      <td>26</td>\n",
       "      <td>2.0</td>\n",
       "      <td>1.0</td>\n",
       "      <td>3.401798</td>\n",
       "      <td>1</td>\n",
       "      <td>24</td>\n",
       "      <td>92.307692</td>\n",
       "      <td>...</td>\n",
       "      <td>1.0</td>\n",
       "      <td>1.0</td>\n",
       "      <td>1.0</td>\n",
       "      <td>6.0</td>\n",
       "      <td>9.0</td>\n",
       "      <td>0.0</td>\n",
       "      <td>1.0</td>\n",
       "      <td>0.0</td>\n",
       "      <td>1.0</td>\n",
       "      <td>7.692308</td>\n",
       "    </tr>\n",
       "    <tr>\n",
       "      <th>7</th>\n",
       "      <td>ak</td>\n",
       "      <td>kodiak island</td>\n",
       "      <td>ak_kodiak island</td>\n",
       "      <td>43</td>\n",
       "      <td>2.0</td>\n",
       "      <td>1.0</td>\n",
       "      <td>5.127440</td>\n",
       "      <td>1</td>\n",
       "      <td>40</td>\n",
       "      <td>93.023256</td>\n",
       "      <td>...</td>\n",
       "      <td>1.0</td>\n",
       "      <td>1.0</td>\n",
       "      <td>1.0</td>\n",
       "      <td>4.0</td>\n",
       "      <td>17.0</td>\n",
       "      <td>0.0</td>\n",
       "      <td>1.0</td>\n",
       "      <td>0.0</td>\n",
       "      <td>1.0</td>\n",
       "      <td>6.976744</td>\n",
       "    </tr>\n",
       "    <tr>\n",
       "      <th>10</th>\n",
       "      <td>ak</td>\n",
       "      <td>sitka</td>\n",
       "      <td>ak_sitka</td>\n",
       "      <td>24</td>\n",
       "      <td>2.0</td>\n",
       "      <td>1.0</td>\n",
       "      <td>4.833235</td>\n",
       "      <td>1</td>\n",
       "      <td>20</td>\n",
       "      <td>83.333333</td>\n",
       "      <td>...</td>\n",
       "      <td>1.0</td>\n",
       "      <td>1.0</td>\n",
       "      <td>2.0</td>\n",
       "      <td>2.0</td>\n",
       "      <td>15.0</td>\n",
       "      <td>0.0</td>\n",
       "      <td>1.0</td>\n",
       "      <td>0.0</td>\n",
       "      <td>1.0</td>\n",
       "      <td>16.666667</td>\n",
       "    </tr>\n",
       "    <tr>\n",
       "      <th>88</th>\n",
       "      <td>az</td>\n",
       "      <td>cochise</td>\n",
       "      <td>az_cochise</td>\n",
       "      <td>477</td>\n",
       "      <td>2.0</td>\n",
       "      <td>1.0</td>\n",
       "      <td>3.993535</td>\n",
       "      <td>1</td>\n",
       "      <td>382</td>\n",
       "      <td>80.083857</td>\n",
       "      <td>...</td>\n",
       "      <td>1.0</td>\n",
       "      <td>1.0</td>\n",
       "      <td>4.0</td>\n",
       "      <td>6.0</td>\n",
       "      <td>14.0</td>\n",
       "      <td>0.0</td>\n",
       "      <td>1.0</td>\n",
       "      <td>0.0</td>\n",
       "      <td>1.0</td>\n",
       "      <td>19.916143</td>\n",
       "    </tr>\n",
       "    <tr>\n",
       "      <th>90</th>\n",
       "      <td>az</td>\n",
       "      <td>gila</td>\n",
       "      <td>az_gila</td>\n",
       "      <td>188</td>\n",
       "      <td>1.0</td>\n",
       "      <td>1.0</td>\n",
       "      <td>2.716956</td>\n",
       "      <td>1</td>\n",
       "      <td>152</td>\n",
       "      <td>80.851064</td>\n",
       "      <td>...</td>\n",
       "      <td>1.0</td>\n",
       "      <td>1.0</td>\n",
       "      <td>3.0</td>\n",
       "      <td>4.0</td>\n",
       "      <td>6.0</td>\n",
       "      <td>0.0</td>\n",
       "      <td>1.0</td>\n",
       "      <td>0.0</td>\n",
       "      <td>1.0</td>\n",
       "      <td>19.148936</td>\n",
       "    </tr>\n",
       "  </tbody>\n",
       "</table>\n",
       "<p>5 rows × 22 columns</p>\n",
       "</div>"
      ],
      "text/plain": [
       "   State          County       State-County  Count  Mean  Median      Skew  \\\n",
       "1     ak  aleutians west  ak_aleutians west     26   2.0     1.0  3.401798   \n",
       "7     ak   kodiak island   ak_kodiak island     43   2.0     1.0  5.127440   \n",
       "10    ak           sitka           ak_sitka     24   2.0     1.0  4.833235   \n",
       "88    az         cochise         az_cochise    477   2.0     1.0  3.993535   \n",
       "90    az            gila            az_gila    188   1.0     1.0  2.716956   \n",
       "\n",
       "    Mode  ModeCount  ModePercentage           ...            Quant_75  \\\n",
       "1      1         24       92.307692           ...                 1.0   \n",
       "7      1         40       93.023256           ...                 1.0   \n",
       "10     1         20       83.333333           ...                 1.0   \n",
       "88     1        382       80.083857           ...                 1.0   \n",
       "90     1        152       80.851064           ...                 1.0   \n",
       "\n",
       "    Quant_80  Quant_90  Quant_95  Quant_99  IQR  LowerOutlier  \\\n",
       "1        1.0       1.0       6.0       9.0  0.0           1.0   \n",
       "7        1.0       1.0       4.0      17.0  0.0           1.0   \n",
       "10       1.0       2.0       2.0      15.0  0.0           1.0   \n",
       "88       1.0       4.0       6.0      14.0  0.0           1.0   \n",
       "90       1.0       3.0       4.0       6.0  0.0           1.0   \n",
       "\n",
       "    LowerOutlierPercentage  UpperOutlier  UpperOutlierPercentage  \n",
       "1                      0.0           1.0                7.692308  \n",
       "7                      0.0           1.0                6.976744  \n",
       "10                     0.0           1.0               16.666667  \n",
       "88                     0.0           1.0               19.916143  \n",
       "90                     0.0           1.0               19.148936  \n",
       "\n",
       "[5 rows x 22 columns]"
      ]
     },
     "execution_count": 23,
     "metadata": {},
     "output_type": "execute_result"
    }
   ],
   "source": [
    "df_Mode.head()"
   ]
  },
  {
   "cell_type": "code",
   "execution_count": 24,
   "metadata": {},
   "outputs": [
    {
     "name": "stdout",
     "output_type": "stream",
     "text": [
      "Name        Count\n",
      "--------  -------\n",
      "Cleaned       201\n",
      "Remainig     1502\n"
     ]
    }
   ],
   "source": [
    "print(tabulate([['Cleaned', df_Calculated_ETA.shape[0]], ['Remainig', df_County_ETA_Mean.shape[0]]], headers=['Name', 'Count']))\n"
   ]
  },
  {
   "cell_type": "markdown",
   "metadata": {},
   "source": [
    "# Right Skew"
   ]
  },
  {
   "cell_type": "code",
   "execution_count": 25,
   "metadata": {},
   "outputs": [
    {
     "data": {
      "text/html": [
       "<div>\n",
       "<style scoped>\n",
       "    .dataframe tbody tr th:only-of-type {\n",
       "        vertical-align: middle;\n",
       "    }\n",
       "\n",
       "    .dataframe tbody tr th {\n",
       "        vertical-align: top;\n",
       "    }\n",
       "\n",
       "    .dataframe thead th {\n",
       "        text-align: right;\n",
       "    }\n",
       "</style>\n",
       "<table border=\"1\" class=\"dataframe\">\n",
       "  <thead>\n",
       "    <tr style=\"text-align: right;\">\n",
       "      <th></th>\n",
       "      <th>State</th>\n",
       "      <th>County</th>\n",
       "      <th>State-County</th>\n",
       "      <th>Count</th>\n",
       "      <th>Mean</th>\n",
       "      <th>Median</th>\n",
       "      <th>Skew</th>\n",
       "      <th>Mode</th>\n",
       "      <th>ModeCount</th>\n",
       "      <th>ModePercentage</th>\n",
       "      <th>...</th>\n",
       "      <th>Quant_75</th>\n",
       "      <th>Quant_80</th>\n",
       "      <th>Quant_90</th>\n",
       "      <th>Quant_95</th>\n",
       "      <th>Quant_99</th>\n",
       "      <th>IQR</th>\n",
       "      <th>LowerOutlier</th>\n",
       "      <th>LowerOutlierPercentage</th>\n",
       "      <th>UpperOutlier</th>\n",
       "      <th>UpperOutlierPercentage</th>\n",
       "    </tr>\n",
       "  </thead>\n",
       "  <tbody>\n",
       "    <tr>\n",
       "      <th>0</th>\n",
       "      <td>ak</td>\n",
       "      <td>aleutians east</td>\n",
       "      <td>ak_aleutians east</td>\n",
       "      <td>28</td>\n",
       "      <td>3.0</td>\n",
       "      <td>1.0</td>\n",
       "      <td>3.338716</td>\n",
       "      <td>1</td>\n",
       "      <td>21</td>\n",
       "      <td>75.000000</td>\n",
       "      <td>...</td>\n",
       "      <td>2.0</td>\n",
       "      <td>5.0</td>\n",
       "      <td>10.0</td>\n",
       "      <td>10.0</td>\n",
       "      <td>23.0</td>\n",
       "      <td>2.0</td>\n",
       "      <td>0.0</td>\n",
       "      <td>0.0</td>\n",
       "      <td>4.0</td>\n",
       "      <td>25.000000</td>\n",
       "    </tr>\n",
       "    <tr>\n",
       "      <th>1</th>\n",
       "      <td>ak</td>\n",
       "      <td>aleutians west</td>\n",
       "      <td>ak_aleutians west</td>\n",
       "      <td>26</td>\n",
       "      <td>2.0</td>\n",
       "      <td>1.0</td>\n",
       "      <td>3.401798</td>\n",
       "      <td>1</td>\n",
       "      <td>24</td>\n",
       "      <td>92.307692</td>\n",
       "      <td>...</td>\n",
       "      <td>1.0</td>\n",
       "      <td>1.0</td>\n",
       "      <td>1.0</td>\n",
       "      <td>6.0</td>\n",
       "      <td>9.0</td>\n",
       "      <td>0.0</td>\n",
       "      <td>1.0</td>\n",
       "      <td>0.0</td>\n",
       "      <td>1.0</td>\n",
       "      <td>7.692308</td>\n",
       "    </tr>\n",
       "    <tr>\n",
       "      <th>2</th>\n",
       "      <td>ak</td>\n",
       "      <td>anchorage</td>\n",
       "      <td>ak_anchorage</td>\n",
       "      <td>786</td>\n",
       "      <td>2.0</td>\n",
       "      <td>1.0</td>\n",
       "      <td>4.634576</td>\n",
       "      <td>1</td>\n",
       "      <td>577</td>\n",
       "      <td>73.409669</td>\n",
       "      <td>...</td>\n",
       "      <td>2.0</td>\n",
       "      <td>2.0</td>\n",
       "      <td>5.0</td>\n",
       "      <td>7.0</td>\n",
       "      <td>22.0</td>\n",
       "      <td>2.0</td>\n",
       "      <td>0.0</td>\n",
       "      <td>0.0</td>\n",
       "      <td>4.0</td>\n",
       "      <td>12.213740</td>\n",
       "    </tr>\n",
       "    <tr>\n",
       "      <th>3</th>\n",
       "      <td>ak</td>\n",
       "      <td>fairbanks north star</td>\n",
       "      <td>ak_fairbanks north star</td>\n",
       "      <td>332</td>\n",
       "      <td>3.0</td>\n",
       "      <td>1.0</td>\n",
       "      <td>4.338389</td>\n",
       "      <td>1</td>\n",
       "      <td>243</td>\n",
       "      <td>73.192771</td>\n",
       "      <td>...</td>\n",
       "      <td>2.0</td>\n",
       "      <td>3.0</td>\n",
       "      <td>6.0</td>\n",
       "      <td>8.0</td>\n",
       "      <td>28.0</td>\n",
       "      <td>2.0</td>\n",
       "      <td>0.0</td>\n",
       "      <td>0.0</td>\n",
       "      <td>4.0</td>\n",
       "      <td>13.855422</td>\n",
       "    </tr>\n",
       "    <tr>\n",
       "      <th>4</th>\n",
       "      <td>ak</td>\n",
       "      <td>juneau</td>\n",
       "      <td>ak_juneau</td>\n",
       "      <td>72</td>\n",
       "      <td>3.0</td>\n",
       "      <td>1.0</td>\n",
       "      <td>2.651252</td>\n",
       "      <td>1</td>\n",
       "      <td>50</td>\n",
       "      <td>69.444444</td>\n",
       "      <td>...</td>\n",
       "      <td>2.0</td>\n",
       "      <td>4.0</td>\n",
       "      <td>7.0</td>\n",
       "      <td>10.0</td>\n",
       "      <td>16.0</td>\n",
       "      <td>2.0</td>\n",
       "      <td>0.0</td>\n",
       "      <td>0.0</td>\n",
       "      <td>4.0</td>\n",
       "      <td>18.055556</td>\n",
       "    </tr>\n",
       "  </tbody>\n",
       "</table>\n",
       "<p>5 rows × 22 columns</p>\n",
       "</div>"
      ],
      "text/plain": [
       "  State                County             State-County  Count  Mean  Median  \\\n",
       "0    ak        aleutians east        ak_aleutians east     28   3.0     1.0   \n",
       "1    ak        aleutians west        ak_aleutians west     26   2.0     1.0   \n",
       "2    ak             anchorage             ak_anchorage    786   2.0     1.0   \n",
       "3    ak  fairbanks north star  ak_fairbanks north star    332   3.0     1.0   \n",
       "4    ak                juneau                ak_juneau     72   3.0     1.0   \n",
       "\n",
       "       Skew  Mode  ModeCount  ModePercentage           ...            \\\n",
       "0  3.338716     1         21       75.000000           ...             \n",
       "1  3.401798     1         24       92.307692           ...             \n",
       "2  4.634576     1        577       73.409669           ...             \n",
       "3  4.338389     1        243       73.192771           ...             \n",
       "4  2.651252     1         50       69.444444           ...             \n",
       "\n",
       "   Quant_75  Quant_80  Quant_90  Quant_95  Quant_99  IQR  LowerOutlier  \\\n",
       "0       2.0       5.0      10.0      10.0      23.0  2.0           0.0   \n",
       "1       1.0       1.0       1.0       6.0       9.0  0.0           1.0   \n",
       "2       2.0       2.0       5.0       7.0      22.0  2.0           0.0   \n",
       "3       2.0       3.0       6.0       8.0      28.0  2.0           0.0   \n",
       "4       2.0       4.0       7.0      10.0      16.0  2.0           0.0   \n",
       "\n",
       "   LowerOutlierPercentage  UpperOutlier  UpperOutlierPercentage  \n",
       "0                     0.0           4.0               25.000000  \n",
       "1                     0.0           1.0                7.692308  \n",
       "2                     0.0           4.0               12.213740  \n",
       "3                     0.0           4.0               13.855422  \n",
       "4                     0.0           4.0               18.055556  \n",
       "\n",
       "[5 rows x 22 columns]"
      ]
     },
     "execution_count": 25,
     "metadata": {},
     "output_type": "execute_result"
    }
   ],
   "source": [
    "dfSkew_Right.head()"
   ]
  },
  {
   "cell_type": "code",
   "execution_count": 26,
   "metadata": {},
   "outputs": [
    {
     "name": "stdout",
     "output_type": "stream",
     "text": [
      "State-County with 75 percentile as perfect data =  1094\n"
     ]
    }
   ],
   "source": [
    "# Remove the upper outliers if their count is less than 20%\n",
    "# Replace their mean with new mean/Median\n",
    "#----------------------\n",
    "df_County_ETA_RightSkew = df_County_ETA_Mean[(df_County_ETA_Mean['UpperOutlierPercentage']  <=  20) & (df_County_ETA_Mean['Skew'] > 0)]\n",
    "df_County_ETA_RightSkew.shape\n",
    "\n",
    "print(\"State-County with 75 percentile as perfect data = \", df_County_ETA_RightSkew.shape[0])\n",
    "\n",
    "#Excluding all the perfect data now----\n",
    "#df_County_ETA_Mean = pd.concat([df_County_ETA_Mean, df_County_ETA_RightSkew]).drop_duplicates(keep=False)\n",
    "#df_County_ETA_Mean.shape\n"
   ]
  },
  {
   "cell_type": "code",
   "execution_count": 27,
   "metadata": {},
   "outputs": [],
   "source": [
    "# Removing the value above 75 percentile(Right Skew) from original Data\n",
    "#-----------------------------------------------------------------------\n",
    "df_CSV_Right = df_CSV[(df_CSV['State-County'].isin(df_County_ETA_RightSkew['State-County']))]\n",
    "\n",
    "\n",
    "df_Group_State_Right = df_CSV_Right.groupby(['State','County', 'State-County'])\n",
    "\n",
    "# Calculate Mean of ETA \n",
    "#--------------------------------------\n",
    "def CalculateNewMean(x):\n",
    "\n",
    "    upperLimit = x.quantile(.75)\n",
    "    x = x[x <= upperLimit]\n",
    "    \n",
    "    return round(x.mean())\n",
    "\n",
    "# ETA Mean -------\n",
    "ETA_NewMean = df_Group_State_Right['ETA'].apply(lambda x: CalculateNewMean(x))\n"
   ]
  },
  {
   "cell_type": "code",
   "execution_count": 28,
   "metadata": {},
   "outputs": [
    {
     "data": {
      "text/plain": [
       "(1094, 5)"
      ]
     },
     "execution_count": 28,
     "metadata": {},
     "output_type": "execute_result"
    }
   ],
   "source": [
    "df_County_ETA_Right = pd.DataFrame(df_Group_State_Right.size().reset_index(name = \"Count\"))\n",
    "df_County_ETA_Right['Mean'] = ETA_NewMean.values\n",
    "df_County_ETA_Right.shape"
   ]
  },
  {
   "cell_type": "code",
   "execution_count": 29,
   "metadata": {},
   "outputs": [
    {
     "data": {
      "text/html": [
       "<div>\n",
       "<style scoped>\n",
       "    .dataframe tbody tr th:only-of-type {\n",
       "        vertical-align: middle;\n",
       "    }\n",
       "\n",
       "    .dataframe tbody tr th {\n",
       "        vertical-align: top;\n",
       "    }\n",
       "\n",
       "    .dataframe thead th {\n",
       "        text-align: right;\n",
       "    }\n",
       "</style>\n",
       "<table border=\"1\" class=\"dataframe\">\n",
       "  <thead>\n",
       "    <tr style=\"text-align: right;\">\n",
       "      <th></th>\n",
       "      <th>State</th>\n",
       "      <th>County</th>\n",
       "      <th>State-County</th>\n",
       "      <th>Count</th>\n",
       "      <th>Mean</th>\n",
       "    </tr>\n",
       "  </thead>\n",
       "  <tbody>\n",
       "    <tr>\n",
       "      <th>0</th>\n",
       "      <td>ak</td>\n",
       "      <td>anchorage</td>\n",
       "      <td>ak_anchorage</td>\n",
       "      <td>786</td>\n",
       "      <td>1</td>\n",
       "    </tr>\n",
       "    <tr>\n",
       "      <th>1</th>\n",
       "      <td>ak</td>\n",
       "      <td>fairbanks north star</td>\n",
       "      <td>ak_fairbanks north star</td>\n",
       "      <td>332</td>\n",
       "      <td>1</td>\n",
       "    </tr>\n",
       "  </tbody>\n",
       "</table>\n",
       "</div>"
      ],
      "text/plain": [
       "  State                County             State-County  Count  Mean\n",
       "0    ak             anchorage             ak_anchorage    786     1\n",
       "1    ak  fairbanks north star  ak_fairbanks north star    332     1"
      ]
     },
     "execution_count": 29,
     "metadata": {},
     "output_type": "execute_result"
    }
   ],
   "source": [
    "df_County_ETA_Right.head(2)"
   ]
  },
  {
   "cell_type": "code",
   "execution_count": 30,
   "metadata": {},
   "outputs": [],
   "source": [
    "df_Calculated_ETA = df_Calculated_ETA.append(df_County_ETA_Right[['State', 'County', 'State-County', 'Mean']], sort=False)\n",
    "\n"
   ]
  },
  {
   "cell_type": "code",
   "execution_count": 31,
   "metadata": {},
   "outputs": [],
   "source": [
    "#Excluding all the perfect data now----\n",
    "df_County_ETA_Mean = pd.concat([df_County_ETA_Mean, df_County_ETA_RightSkew]).drop_duplicates(keep=False)\n",
    "#df_County_ETA_Mean.shape\n",
    "\n"
   ]
  },
  {
   "cell_type": "code",
   "execution_count": 32,
   "metadata": {},
   "outputs": [
    {
     "name": "stdout",
     "output_type": "stream",
     "text": [
      "Name        Count\n",
      "--------  -------\n",
      "Cleaned      1295\n",
      "Remainig      408\n"
     ]
    }
   ],
   "source": [
    "print(tabulate([['Cleaned', df_Calculated_ETA.shape[0]], ['Remainig', df_County_ETA_Mean.shape[0]]], headers=['Name', 'Count']))\n"
   ]
  },
  {
   "cell_type": "markdown",
   "metadata": {},
   "source": [
    "# Left Skew Data"
   ]
  },
  {
   "cell_type": "code",
   "execution_count": 33,
   "metadata": {},
   "outputs": [
    {
     "data": {
      "text/html": [
       "<div>\n",
       "<style scoped>\n",
       "    .dataframe tbody tr th:only-of-type {\n",
       "        vertical-align: middle;\n",
       "    }\n",
       "\n",
       "    .dataframe tbody tr th {\n",
       "        vertical-align: top;\n",
       "    }\n",
       "\n",
       "    .dataframe thead th {\n",
       "        text-align: right;\n",
       "    }\n",
       "</style>\n",
       "<table border=\"1\" class=\"dataframe\">\n",
       "  <thead>\n",
       "    <tr style=\"text-align: right;\">\n",
       "      <th></th>\n",
       "      <th>State</th>\n",
       "      <th>County</th>\n",
       "      <th>State-County</th>\n",
       "      <th>Count</th>\n",
       "      <th>Mean</th>\n",
       "      <th>Median</th>\n",
       "      <th>Skew</th>\n",
       "      <th>Mode</th>\n",
       "      <th>ModeCount</th>\n",
       "      <th>ModePercentage</th>\n",
       "      <th>...</th>\n",
       "      <th>Quant_75</th>\n",
       "      <th>Quant_80</th>\n",
       "      <th>Quant_90</th>\n",
       "      <th>Quant_95</th>\n",
       "      <th>Quant_99</th>\n",
       "      <th>IQR</th>\n",
       "      <th>LowerOutlier</th>\n",
       "      <th>LowerOutlierPercentage</th>\n",
       "      <th>UpperOutlier</th>\n",
       "      <th>UpperOutlierPercentage</th>\n",
       "    </tr>\n",
       "  </thead>\n",
       "  <tbody>\n",
       "    <tr>\n",
       "      <th>12</th>\n",
       "      <td>al</td>\n",
       "      <td>autauga</td>\n",
       "      <td>al_autauga</td>\n",
       "      <td>159</td>\n",
       "      <td>448.0</td>\n",
       "      <td>479.0</td>\n",
       "      <td>-0.552513</td>\n",
       "      <td>1</td>\n",
       "      <td>6</td>\n",
       "      <td>3.773585</td>\n",
       "      <td>...</td>\n",
       "      <td>598.0</td>\n",
       "      <td>633.0</td>\n",
       "      <td>650.0</td>\n",
       "      <td>679.0</td>\n",
       "      <td>761.0</td>\n",
       "      <td>402.0</td>\n",
       "      <td>0.0</td>\n",
       "      <td>0.000000</td>\n",
       "      <td>1000.0</td>\n",
       "      <td>0.628931</td>\n",
       "    </tr>\n",
       "    <tr>\n",
       "      <th>13</th>\n",
       "      <td>al</td>\n",
       "      <td>baldwin</td>\n",
       "      <td>al_baldwin</td>\n",
       "      <td>383</td>\n",
       "      <td>417.0</td>\n",
       "      <td>445.0</td>\n",
       "      <td>-0.477601</td>\n",
       "      <td>1</td>\n",
       "      <td>8</td>\n",
       "      <td>2.088773</td>\n",
       "      <td>...</td>\n",
       "      <td>549.0</td>\n",
       "      <td>580.0</td>\n",
       "      <td>634.0</td>\n",
       "      <td>665.0</td>\n",
       "      <td>749.0</td>\n",
       "      <td>368.0</td>\n",
       "      <td>0.0</td>\n",
       "      <td>0.000000</td>\n",
       "      <td>917.0</td>\n",
       "      <td>0.000000</td>\n",
       "    </tr>\n",
       "    <tr>\n",
       "      <th>14</th>\n",
       "      <td>al</td>\n",
       "      <td>barbour</td>\n",
       "      <td>al_barbour</td>\n",
       "      <td>64</td>\n",
       "      <td>411.0</td>\n",
       "      <td>431.0</td>\n",
       "      <td>-0.622066</td>\n",
       "      <td>2</td>\n",
       "      <td>4</td>\n",
       "      <td>6.250000</td>\n",
       "      <td>...</td>\n",
       "      <td>544.0</td>\n",
       "      <td>549.0</td>\n",
       "      <td>586.0</td>\n",
       "      <td>660.0</td>\n",
       "      <td>776.0</td>\n",
       "      <td>345.0</td>\n",
       "      <td>0.0</td>\n",
       "      <td>0.000000</td>\n",
       "      <td>889.0</td>\n",
       "      <td>0.000000</td>\n",
       "    </tr>\n",
       "    <tr>\n",
       "      <th>16</th>\n",
       "      <td>al</td>\n",
       "      <td>blount</td>\n",
       "      <td>al_blount</td>\n",
       "      <td>62</td>\n",
       "      <td>443.0</td>\n",
       "      <td>444.0</td>\n",
       "      <td>-0.288189</td>\n",
       "      <td>539</td>\n",
       "      <td>3</td>\n",
       "      <td>4.838710</td>\n",
       "      <td>...</td>\n",
       "      <td>537.0</td>\n",
       "      <td>546.0</td>\n",
       "      <td>634.0</td>\n",
       "      <td>689.0</td>\n",
       "      <td>705.0</td>\n",
       "      <td>279.0</td>\n",
       "      <td>72.0</td>\n",
       "      <td>1.612903</td>\n",
       "      <td>816.0</td>\n",
       "      <td>0.000000</td>\n",
       "    </tr>\n",
       "    <tr>\n",
       "      <th>17</th>\n",
       "      <td>al</td>\n",
       "      <td>bullock</td>\n",
       "      <td>al_bullock</td>\n",
       "      <td>24</td>\n",
       "      <td>454.0</td>\n",
       "      <td>460.0</td>\n",
       "      <td>-0.280354</td>\n",
       "      <td>277</td>\n",
       "      <td>2</td>\n",
       "      <td>8.333333</td>\n",
       "      <td>...</td>\n",
       "      <td>603.0</td>\n",
       "      <td>610.0</td>\n",
       "      <td>635.0</td>\n",
       "      <td>646.0</td>\n",
       "      <td>646.0</td>\n",
       "      <td>422.0</td>\n",
       "      <td>0.0</td>\n",
       "      <td>0.000000</td>\n",
       "      <td>1025.0</td>\n",
       "      <td>0.000000</td>\n",
       "    </tr>\n",
       "  </tbody>\n",
       "</table>\n",
       "<p>5 rows × 22 columns</p>\n",
       "</div>"
      ],
      "text/plain": [
       "   State   County State-County  Count   Mean  Median      Skew  Mode  \\\n",
       "12    al  autauga   al_autauga    159  448.0   479.0 -0.552513     1   \n",
       "13    al  baldwin   al_baldwin    383  417.0   445.0 -0.477601     1   \n",
       "14    al  barbour   al_barbour     64  411.0   431.0 -0.622066     2   \n",
       "16    al   blount    al_blount     62  443.0   444.0 -0.288189   539   \n",
       "17    al  bullock   al_bullock     24  454.0   460.0 -0.280354   277   \n",
       "\n",
       "    ModeCount  ModePercentage           ...            Quant_75  Quant_80  \\\n",
       "12          6        3.773585           ...               598.0     633.0   \n",
       "13          8        2.088773           ...               549.0     580.0   \n",
       "14          4        6.250000           ...               544.0     549.0   \n",
       "16          3        4.838710           ...               537.0     546.0   \n",
       "17          2        8.333333           ...               603.0     610.0   \n",
       "\n",
       "    Quant_90  Quant_95  Quant_99    IQR  LowerOutlier  LowerOutlierPercentage  \\\n",
       "12     650.0     679.0     761.0  402.0           0.0                0.000000   \n",
       "13     634.0     665.0     749.0  368.0           0.0                0.000000   \n",
       "14     586.0     660.0     776.0  345.0           0.0                0.000000   \n",
       "16     634.0     689.0     705.0  279.0          72.0                1.612903   \n",
       "17     635.0     646.0     646.0  422.0           0.0                0.000000   \n",
       "\n",
       "    UpperOutlier  UpperOutlierPercentage  \n",
       "12        1000.0                0.628931  \n",
       "13         917.0                0.000000  \n",
       "14         889.0                0.000000  \n",
       "16         816.0                0.000000  \n",
       "17        1025.0                0.000000  \n",
       "\n",
       "[5 rows x 22 columns]"
      ]
     },
     "execution_count": 33,
     "metadata": {},
     "output_type": "execute_result"
    }
   ],
   "source": [
    "dfSkew_Left.head()\n"
   ]
  },
  {
   "cell_type": "code",
   "execution_count": 34,
   "metadata": {},
   "outputs": [
    {
     "name": "stdout",
     "output_type": "stream",
     "text": [
      "State-County with 75 percentile as perfect data =  58\n"
     ]
    }
   ],
   "source": [
    "# Remove the upper outliers if their count is less than 20%\n",
    "# Replace their mean with new mean/Median\n",
    "#----------------------\n",
    "df_County_ETA_LeftSkew = df_County_ETA_Mean[(df_County_ETA_Mean['LowerOutlierPercentage']  <=  20) & (df_County_ETA_Mean['Skew'] < 0)]\n",
    "df_County_ETA_LeftSkew.shape\n",
    "\n",
    "print(\"State-County with 75 percentile as perfect data = \", df_County_ETA_LeftSkew.shape[0])\n",
    "\n",
    "#Excluding all the perfect data now----\n",
    "#df_County_ETA_Mean = pd.concat([df_County_ETA_Mean, df_County_ETA_LeftSkew]).drop_duplicates(keep=False)\n",
    "\n"
   ]
  },
  {
   "cell_type": "code",
   "execution_count": 35,
   "metadata": {},
   "outputs": [],
   "source": [
    "# Removing the value below 25 percentile(Left Skew) from original Data\n",
    "#-----------------------------------------------------------------------\n",
    "df_CSV_Left = df_CSV[(df_CSV['State-County'].isin(df_County_ETA_LeftSkew['State-County']))]\n",
    "\n",
    "\n",
    "df_Group_State_Left = df_CSV_Left.groupby(['State','County', 'State-County'])\n",
    "\n",
    "# Calculate Mode of ETA and Mode Count\n",
    "#--------------------------------------\n",
    "def CalculateNewMean(x):\n",
    "\n",
    "    lowerLimit = x.quantile(.25)\n",
    "    x = x[x >= lowerLimit]\n",
    "    \n",
    "    return round(x.mean())\n",
    "\n",
    "# ETA Mode -------\n",
    "ETA_NewMean = df_Group_State_Left['ETA'].apply(lambda x: CalculateNewMean(x))\n"
   ]
  },
  {
   "cell_type": "code",
   "execution_count": 36,
   "metadata": {},
   "outputs": [
    {
     "data": {
      "text/plain": [
       "(58, 5)"
      ]
     },
     "execution_count": 36,
     "metadata": {},
     "output_type": "execute_result"
    }
   ],
   "source": [
    "df_County_ETA_Left = pd.DataFrame(df_Group_State_Left.size().reset_index(name = \"Count\"))\n",
    "df_County_ETA_Left['Mean'] = ETA_NewMean.values\n",
    "df_County_ETA_Left.shape"
   ]
  },
  {
   "cell_type": "code",
   "execution_count": 37,
   "metadata": {},
   "outputs": [
    {
     "data": {
      "text/html": [
       "<div>\n",
       "<style scoped>\n",
       "    .dataframe tbody tr th:only-of-type {\n",
       "        vertical-align: middle;\n",
       "    }\n",
       "\n",
       "    .dataframe tbody tr th {\n",
       "        vertical-align: top;\n",
       "    }\n",
       "\n",
       "    .dataframe thead th {\n",
       "        text-align: right;\n",
       "    }\n",
       "</style>\n",
       "<table border=\"1\" class=\"dataframe\">\n",
       "  <thead>\n",
       "    <tr style=\"text-align: right;\">\n",
       "      <th></th>\n",
       "      <th>State</th>\n",
       "      <th>County</th>\n",
       "      <th>State-County</th>\n",
       "      <th>Count</th>\n",
       "      <th>Mean</th>\n",
       "    </tr>\n",
       "  </thead>\n",
       "  <tbody>\n",
       "    <tr>\n",
       "      <th>0</th>\n",
       "      <td>al</td>\n",
       "      <td>autauga</td>\n",
       "      <td>al_autauga</td>\n",
       "      <td>159</td>\n",
       "      <td>534</td>\n",
       "    </tr>\n",
       "    <tr>\n",
       "      <th>1</th>\n",
       "      <td>al</td>\n",
       "      <td>baldwin</td>\n",
       "      <td>al_baldwin</td>\n",
       "      <td>383</td>\n",
       "      <td>500</td>\n",
       "    </tr>\n",
       "  </tbody>\n",
       "</table>\n",
       "</div>"
      ],
      "text/plain": [
       "  State   County State-County  Count  Mean\n",
       "0    al  autauga   al_autauga    159   534\n",
       "1    al  baldwin   al_baldwin    383   500"
      ]
     },
     "execution_count": 37,
     "metadata": {},
     "output_type": "execute_result"
    }
   ],
   "source": [
    "df_County_ETA_Left.head(2)"
   ]
  },
  {
   "cell_type": "code",
   "execution_count": 38,
   "metadata": {},
   "outputs": [],
   "source": [
    "# Appending To clean List\n",
    "#---------------------------\n",
    "\n",
    "df_Calculated_ETA = df_Calculated_ETA.append(df_County_ETA_Left[['State', 'County', 'State-County', 'Mean']], sort=False)\n"
   ]
  },
  {
   "cell_type": "code",
   "execution_count": 39,
   "metadata": {},
   "outputs": [],
   "source": [
    "#Excluding all the perfect data now----\n",
    "df_County_ETA_Mean = pd.concat([df_County_ETA_Mean, df_County_ETA_LeftSkew]).drop_duplicates(keep=False)\n",
    "#df_County_ETA_Mean.shape"
   ]
  },
  {
   "cell_type": "code",
   "execution_count": 40,
   "metadata": {},
   "outputs": [
    {
     "name": "stdout",
     "output_type": "stream",
     "text": [
      "Name        Count\n",
      "--------  -------\n",
      "Cleaned      1353\n",
      "Remainig      350\n"
     ]
    }
   ],
   "source": [
    "print(tabulate([['Cleaned', df_Calculated_ETA.shape[0]], ['Remainig', df_County_ETA_Mean.shape[0]]], headers=['Name', 'Count']))\n"
   ]
  },
  {
   "cell_type": "code",
   "execution_count": null,
   "metadata": {},
   "outputs": [],
   "source": []
  },
  {
   "cell_type": "markdown",
   "metadata": {},
   "source": [
    "# Remaining Data (percentile)"
   ]
  },
  {
   "cell_type": "code",
   "execution_count": 41,
   "metadata": {},
   "outputs": [
    {
     "data": {
      "text/plain": [
       "<matplotlib.axes._subplots.AxesSubplot at 0x2195dd09cf8>"
      ]
     },
     "execution_count": 41,
     "metadata": {},
     "output_type": "execute_result"
    },
    {
     "data": {
      "image/png": "[encoded data removed]",
      "text/plain": [
       "<Figure size 1224x504 with 1 Axes>"
      ]
     },
     "metadata": {
      "needs_background": "light"
     },
     "output_type": "display_data"
    }
   ],
   "source": [
    "df_County_ETA_Mean.plot(x='State-County', y=['Quant_90','Quant_95'], figsize=(17,7))"
   ]
  },
  {
   "cell_type": "code",
   "execution_count": 42,
   "metadata": {},
   "outputs": [
    {
     "data": {
      "text/plain": [
       "<matplotlib.axes._subplots.AxesSubplot at 0x2195de0b5f8>"
      ]
     },
     "execution_count": 42,
     "metadata": {},
     "output_type": "execute_result"
    },
    {
     "data": {
      "image/png": "[encoded data removed]",
      "text/plain": [
       "<Figure size 1224x504 with 1 Axes>"
      ]
     },
     "metadata": {
      "needs_background": "light"
     },
     "output_type": "display_data"
    }
   ],
   "source": [
    "df_County_ETA_Mean.plot(x='State-County', y=['Quant_95','Quant_99'], figsize=(17,7))"
   ]
  },
  {
   "cell_type": "code",
   "execution_count": 43,
   "metadata": {},
   "outputs": [],
   "source": [
    "# Remainig right skew data, remove the values above 90 percentile\n",
    "#-----------------------------------------------------------------------\n",
    "df_CSV_Right = df_CSV[(df_CSV['State-County'].isin(df_County_ETA_Mean['State-County']))]\n",
    "\n",
    "\n",
    "df_Group_State_Right = df_CSV_Right.groupby(['State','County', 'State-County'])\n",
    "\n",
    "# Calculate Mode of ETA and Mode Count\n",
    "#--------------------------------------\n",
    "def CalculateNewMean(x):\n",
    "\n",
    "    upperLimit = x.quantile(.90)\n",
    "    x = x[x <= upperLimit]\n",
    "    \n",
    "    return round(x.mean())\n",
    "\n",
    "# ETA Mode -------\n",
    "ETA_NewMean = df_Group_State_Right['ETA'].apply(lambda x: CalculateNewMean(x))\n"
   ]
  },
  {
   "cell_type": "code",
   "execution_count": 44,
   "metadata": {},
   "outputs": [
    {
     "data": {
      "text/plain": [
       "(350, 5)"
      ]
     },
     "execution_count": 44,
     "metadata": {},
     "output_type": "execute_result"
    }
   ],
   "source": [
    "df_County_ETA_Right = pd.DataFrame(df_Group_State_Right.size().reset_index(name = \"Count\"))\n",
    "df_County_ETA_Right['Mean'] = ETA_NewMean.values\n",
    "df_County_ETA_Right.shape"
   ]
  },
  {
   "cell_type": "code",
   "execution_count": 45,
   "metadata": {},
   "outputs": [],
   "source": [
    "df_Calculated_ETA = df_Calculated_ETA.append(df_County_ETA_Right[['State', 'County', 'State-County', 'Mean']], sort=False)\n"
   ]
  },
  {
   "cell_type": "code",
   "execution_count": 49,
   "metadata": {},
   "outputs": [
    {
     "data": {
      "text/plain": [
       "0         ak_aleutians east\n",
       "1      ak_ketchikan gateway\n",
       "2      ak_matanuska susitna\n",
       "3            ak_north slope\n",
       "4         ak_valdez cordova\n",
       "5                al_conecuh\n",
       "6               ar_faulkner\n",
       "7                ar_garland\n",
       "8                 az_apache\n",
       "9               az_coconino\n",
       "10                az_la paz\n",
       "11              az_maricopa\n",
       "12                az_mohave\n",
       "13                az_navajo\n",
       "14                 az_pinal\n",
       "15               az_yavapai\n",
       "16                  az_yuma\n",
       "17               ca_alameda\n",
       "18                 ca_butte\n",
       "19             ca_calaveras\n",
       "20                ca_colusa\n",
       "21                 ca_kings\n",
       "22                 ca_marin\n",
       "23                ca_merced\n",
       "24             ca_riverside\n",
       "25            ca_sacramento\n",
       "26             ca_san diego\n",
       "27         ca_santa barbara\n",
       "28                ca_shasta\n",
       "29              ca_siskiyou\n",
       "               ...         \n",
       "320          va_norton city\n",
       "321             wa_san juan\n",
       "322              wi_ashland\n",
       "323                wi_brown\n",
       "324              wi_buffalo\n",
       "325             wi_crawford\n",
       "326                wi_dodge\n",
       "327                 wi_door\n",
       "328              wi_douglas\n",
       "329          wi_fond du lac\n",
       "330                wi_green\n",
       "331           wi_green lake\n",
       "332                 wi_iron\n",
       "333               wi_juneau\n",
       "334              wi_kenosha\n",
       "335              wi_lincoln\n",
       "336            wi_manitowoc\n",
       "337            wi_milwaukee\n",
       "338               wi_oneida\n",
       "339            wi_outagamie\n",
       "340                 wi_polk\n",
       "341                wi_price\n",
       "342               wi_racine\n",
       "343                 wi_rock\n",
       "344            wi_sheboygan\n",
       "345             wi_st croix\n",
       "346             wi_walworth\n",
       "347             wi_waukesha\n",
       "348              wi_waupaca\n",
       "349             wi_waushara\n",
       "Name: State-County, Length: 350, dtype: object"
      ]
     },
     "execution_count": 49,
     "metadata": {},
     "output_type": "execute_result"
    }
   ],
   "source": [
    "df_County_ETA_Right['State-County']"
   ]
  },
  {
   "cell_type": "code",
   "execution_count": 48,
   "metadata": {},
   "outputs": [
    {
     "data": {
      "text/plain": [
       "0          ak_aleutians east\n",
       "6       ak_ketchikan gateway\n",
       "8       ak_matanuska susitna\n",
       "9             ak_north slope\n",
       "11         ak_valdez cordova\n",
       "29                al_conecuh\n",
       "80               ar_faulkner\n",
       "81                ar_garland\n",
       "87                 az_apache\n",
       "89               az_coconino\n",
       "92                 az_la paz\n",
       "93               az_maricopa\n",
       "94                 az_mohave\n",
       "95                 az_navajo\n",
       "97                  az_pinal\n",
       "99                az_yavapai\n",
       "100                  az_yuma\n",
       "101               ca_alameda\n",
       "103                 ca_butte\n",
       "104             ca_calaveras\n",
       "105                ca_colusa\n",
       "110                 ca_kings\n",
       "113                 ca_marin\n",
       "115                ca_merced\n",
       "121             ca_riverside\n",
       "122            ca_sacramento\n",
       "124             ca_san diego\n",
       "127         ca_santa barbara\n",
       "130                ca_shasta\n",
       "131              ca_siskiyou\n",
       "                ...         \n",
       "1560          va_norton city\n",
       "1625             wa_san juan\n",
       "1637              wi_ashland\n",
       "1640                wi_brown\n",
       "1641              wi_buffalo\n",
       "1647             wi_crawford\n",
       "1649                wi_dodge\n",
       "1650                 wi_door\n",
       "1651              wi_douglas\n",
       "1654          wi_fond du lac\n",
       "1656                wi_green\n",
       "1657           wi_green lake\n",
       "1659                 wi_iron\n",
       "1662               wi_juneau\n",
       "1663              wi_kenosha\n",
       "1668              wi_lincoln\n",
       "1669            wi_manitowoc\n",
       "1673            wi_milwaukee\n",
       "1676               wi_oneida\n",
       "1677            wi_outagamie\n",
       "1680                 wi_polk\n",
       "1681                wi_price\n",
       "1682               wi_racine\n",
       "1684                 wi_rock\n",
       "1689            wi_sheboygan\n",
       "1690             wi_st croix\n",
       "1695             wi_walworth\n",
       "1698             wi_waukesha\n",
       "1699              wi_waupaca\n",
       "1700             wi_waushara\n",
       "Name: State-County, Length: 350, dtype: object"
      ]
     },
     "execution_count": 48,
     "metadata": {},
     "output_type": "execute_result"
    }
   ],
   "source": [
    "df_County_ETA_Mean['State-County']"
   ]
  },
  {
   "cell_type": "code",
   "execution_count": 63,
   "metadata": {},
   "outputs": [
    {
     "data": {
      "text/plain": [
       "(700, 5)"
      ]
     },
     "execution_count": 63,
     "metadata": {},
     "output_type": "execute_result"
    }
   ],
   "source": [
    "#Excluding all the perfect data now----\n",
    "df_County_ETA_Mean = pd.concat([df_County_ETA_Mean[['State', 'County', 'State-County']], df_County_ETA_Right]).drop_duplicates(keep=False).reset_index(drop=True)\n",
    "df_County_ETA_Mean.shape\n",
    "\n",
    "#pandas.concat([df1,df2]).drop_duplicates().reset_index(drop=True)\n",
    "# df_tot = pd.concat([df_1,df_2], ignore_index=False)"
   ]
  },
  {
   "cell_type": "code",
   "execution_count": 62,
   "metadata": {},
   "outputs": [
    {
     "data": {
      "text/plain": [
       "0         ak_aleutians east\n",
       "1      ak_ketchikan gateway\n",
       "2      ak_matanuska susitna\n",
       "3            ak_north slope\n",
       "4         ak_valdez cordova\n",
       "5                al_conecuh\n",
       "6               ar_faulkner\n",
       "7                ar_garland\n",
       "8                 az_apache\n",
       "9               az_coconino\n",
       "10                az_la paz\n",
       "11              az_maricopa\n",
       "12                az_mohave\n",
       "13                az_navajo\n",
       "14                 az_pinal\n",
       "15               az_yavapai\n",
       "16                  az_yuma\n",
       "17               ca_alameda\n",
       "18                 ca_butte\n",
       "19             ca_calaveras\n",
       "20                ca_colusa\n",
       "21                 ca_kings\n",
       "22                 ca_marin\n",
       "23                ca_merced\n",
       "24             ca_riverside\n",
       "25            ca_sacramento\n",
       "26             ca_san diego\n",
       "27         ca_santa barbara\n",
       "28                ca_shasta\n",
       "29              ca_siskiyou\n",
       "               ...         \n",
       "670          va_norton city\n",
       "671             wa_san juan\n",
       "672              wi_ashland\n",
       "673                wi_brown\n",
       "674              wi_buffalo\n",
       "675             wi_crawford\n",
       "676                wi_dodge\n",
       "677                 wi_door\n",
       "678              wi_douglas\n",
       "679          wi_fond du lac\n",
       "680                wi_green\n",
       "681           wi_green lake\n",
       "682                 wi_iron\n",
       "683               wi_juneau\n",
       "684              wi_kenosha\n",
       "685              wi_lincoln\n",
       "686            wi_manitowoc\n",
       "687            wi_milwaukee\n",
       "688               wi_oneida\n",
       "689            wi_outagamie\n",
       "690                 wi_polk\n",
       "691                wi_price\n",
       "692               wi_racine\n",
       "693                 wi_rock\n",
       "694            wi_sheboygan\n",
       "695             wi_st croix\n",
       "696             wi_walworth\n",
       "697             wi_waukesha\n",
       "698              wi_waupaca\n",
       "699             wi_waushara\n",
       "Name: State-County, Length: 700, dtype: object"
      ]
     },
     "execution_count": 62,
     "metadata": {},
     "output_type": "execute_result"
    }
   ],
   "source": [
    "df_County_ETA_Mean['State-County']"
   ]
  },
  {
   "cell_type": "code",
   "execution_count": 60,
   "metadata": {},
   "outputs": [
    {
     "name": "stdout",
     "output_type": "stream",
     "text": [
      "Name        Count\n",
      "--------  -------\n",
      "Cleaned      1703\n",
      "Remainig      700\n"
     ]
    }
   ],
   "source": [
    "print(tabulate([['Cleaned', df_Calculated_ETA.shape[0]], ['Remainig', df_County_ETA_Mean.shape[0]]], headers=['Name', 'Count']))\n",
    "\n",
    "\n"
   ]
  },
  {
   "cell_type": "markdown",
   "metadata": {},
   "source": [
    "# Save The Results in State-County Excel"
   ]
  },
  {
   "cell_type": "code",
   "execution_count": 439,
   "metadata": {},
   "outputs": [
    {
     "data": {
      "text/html": [
       "<div>\n",
       "<style scoped>\n",
       "    .dataframe tbody tr th:only-of-type {\n",
       "        vertical-align: middle;\n",
       "    }\n",
       "\n",
       "    .dataframe tbody tr th {\n",
       "        vertical-align: top;\n",
       "    }\n",
       "\n",
       "    .dataframe thead th {\n",
       "        text-align: right;\n",
       "    }\n",
       "</style>\n",
       "<table border=\"1\" class=\"dataframe\">\n",
       "  <thead>\n",
       "    <tr style=\"text-align: right;\">\n",
       "      <th></th>\n",
       "      <th>State</th>\n",
       "      <th>County</th>\n",
       "      <th>Abbr</th>\n",
       "      <th>State-County</th>\n",
       "      <th>Mean</th>\n",
       "    </tr>\n",
       "  </thead>\n",
       "  <tbody>\n",
       "    <tr>\n",
       "      <th>0</th>\n",
       "      <td>alabama</td>\n",
       "      <td>autauga</td>\n",
       "      <td>al</td>\n",
       "      <td>al_autauga</td>\n",
       "      <td>534.0</td>\n",
       "    </tr>\n",
       "    <tr>\n",
       "      <th>1</th>\n",
       "      <td>alabama</td>\n",
       "      <td>baldwin</td>\n",
       "      <td>al</td>\n",
       "      <td>al_baldwin</td>\n",
       "      <td>500.0</td>\n",
       "    </tr>\n",
       "    <tr>\n",
       "      <th>2</th>\n",
       "      <td>alabama</td>\n",
       "      <td>barbour</td>\n",
       "      <td>al</td>\n",
       "      <td>al_barbour</td>\n",
       "      <td>493.0</td>\n",
       "    </tr>\n",
       "    <tr>\n",
       "      <th>3</th>\n",
       "      <td>alabama</td>\n",
       "      <td>bibb</td>\n",
       "      <td>al</td>\n",
       "      <td>al_bibb</td>\n",
       "      <td>335.0</td>\n",
       "    </tr>\n",
       "    <tr>\n",
       "      <th>4</th>\n",
       "      <td>alabama</td>\n",
       "      <td>blount</td>\n",
       "      <td>al</td>\n",
       "      <td>al_blount</td>\n",
       "      <td>506.0</td>\n",
       "    </tr>\n",
       "  </tbody>\n",
       "</table>\n",
       "</div>"
      ],
      "text/plain": [
       "     State   County Abbr State-County   Mean\n",
       "0  alabama  autauga   al   al_autauga  534.0\n",
       "1  alabama  baldwin   al   al_baldwin  500.0\n",
       "2  alabama  barbour   al   al_barbour  493.0\n",
       "3  alabama     bibb   al      al_bibb  335.0\n",
       "4  alabama   blount   al    al_blount  506.0"
      ]
     },
     "execution_count": 439,
     "metadata": {},
     "output_type": "execute_result"
    }
   ],
   "source": [
    "df_Results = pd.read_csv('../CSV/Prism/Output/prism.csv')\n",
    "\n",
    "df_Results.head()"
   ]
  },
  {
   "cell_type": "code",
   "execution_count": 440,
   "metadata": {},
   "outputs": [],
   "source": [
    "df_Calculated_ETA = df_Calculated_ETA[['State-County', 'Mean']]\n",
    "\n",
    "df_Calculated_ETA = df_Calculated_ETA.rename(columns={'Mean': 'ClearETA'})"
   ]
  },
  {
   "cell_type": "code",
   "execution_count": 441,
   "metadata": {},
   "outputs": [],
   "source": [
    "df_Results_new = df_Results.merge(df_Calculated_ETA, on=\"State-County\", how=\"left\")\n"
   ]
  },
  {
   "cell_type": "code",
   "execution_count": 442,
   "metadata": {},
   "outputs": [
    {
     "data": {
      "text/html": [
       "<div>\n",
       "<style scoped>\n",
       "    .dataframe tbody tr th:only-of-type {\n",
       "        vertical-align: middle;\n",
       "    }\n",
       "\n",
       "    .dataframe tbody tr th {\n",
       "        vertical-align: top;\n",
       "    }\n",
       "\n",
       "    .dataframe thead th {\n",
       "        text-align: right;\n",
       "    }\n",
       "</style>\n",
       "<table border=\"1\" class=\"dataframe\">\n",
       "  <thead>\n",
       "    <tr style=\"text-align: right;\">\n",
       "      <th></th>\n",
       "      <th>State</th>\n",
       "      <th>County</th>\n",
       "      <th>Abbr</th>\n",
       "      <th>State-County</th>\n",
       "      <th>Mean</th>\n",
       "      <th>ClearETA</th>\n",
       "    </tr>\n",
       "  </thead>\n",
       "  <tbody>\n",
       "    <tr>\n",
       "      <th>0</th>\n",
       "      <td>alabama</td>\n",
       "      <td>autauga</td>\n",
       "      <td>al</td>\n",
       "      <td>al_autauga</td>\n",
       "      <td>534.0</td>\n",
       "      <td>534.0</td>\n",
       "    </tr>\n",
       "    <tr>\n",
       "      <th>1</th>\n",
       "      <td>alabama</td>\n",
       "      <td>baldwin</td>\n",
       "      <td>al</td>\n",
       "      <td>al_baldwin</td>\n",
       "      <td>500.0</td>\n",
       "      <td>500.0</td>\n",
       "    </tr>\n",
       "    <tr>\n",
       "      <th>2</th>\n",
       "      <td>alabama</td>\n",
       "      <td>barbour</td>\n",
       "      <td>al</td>\n",
       "      <td>al_barbour</td>\n",
       "      <td>493.0</td>\n",
       "      <td>493.0</td>\n",
       "    </tr>\n",
       "    <tr>\n",
       "      <th>3</th>\n",
       "      <td>alabama</td>\n",
       "      <td>bibb</td>\n",
       "      <td>al</td>\n",
       "      <td>al_bibb</td>\n",
       "      <td>335.0</td>\n",
       "      <td>335.0</td>\n",
       "    </tr>\n",
       "    <tr>\n",
       "      <th>4</th>\n",
       "      <td>alabama</td>\n",
       "      <td>blount</td>\n",
       "      <td>al</td>\n",
       "      <td>al_blount</td>\n",
       "      <td>506.0</td>\n",
       "      <td>506.0</td>\n",
       "    </tr>\n",
       "  </tbody>\n",
       "</table>\n",
       "</div>"
      ],
      "text/plain": [
       "     State   County Abbr State-County   Mean  ClearETA\n",
       "0  alabama  autauga   al   al_autauga  534.0     534.0\n",
       "1  alabama  baldwin   al   al_baldwin  500.0     500.0\n",
       "2  alabama  barbour   al   al_barbour  493.0     493.0\n",
       "3  alabama     bibb   al      al_bibb  335.0     335.0\n",
       "4  alabama   blount   al    al_blount  506.0     506.0"
      ]
     },
     "execution_count": 442,
     "metadata": {},
     "output_type": "execute_result"
    }
   ],
   "source": [
    "df_Results_new.head()"
   ]
  },
  {
   "cell_type": "code",
   "execution_count": null,
   "metadata": {},
   "outputs": [],
   "source": []
  },
  {
   "cell_type": "code",
   "execution_count": 443,
   "metadata": {},
   "outputs": [],
   "source": [
    "df_Results_new.to_csv('../CSV/Prism/Output/prism.csv', index=False)"
   ]
  },
  {
   "cell_type": "code",
   "execution_count": null,
   "metadata": {},
   "outputs": [],
   "source": []
  },
  {
   "cell_type": "code",
   "execution_count": null,
   "metadata": {},
   "outputs": [],
   "source": []
  },
  {
   "cell_type": "code",
   "execution_count": null,
   "metadata": {},
   "outputs": [],
   "source": []
  },
  {
   "cell_type": "code",
   "execution_count": null,
   "metadata": {},
   "outputs": [],
   "source": []
  }
 ],
 "metadata": {
  "kernelspec": {
   "display_name": "Python 3",
   "language": "python",
   "name": "python3"
  },
  "language_info": {
   "codemirror_mode": {
    "name": "ipython",
    "version": 3
   },
   "file_extension": ".py",
   "mimetype": "text/x-python",
   "name": "python",
   "nbconvert_exporter": "python",
   "pygments_lexer": "ipython3",
   "version": "3.7.1"
  }
 },
 "nbformat": 4,
 "nbformat_minor": 2
}
