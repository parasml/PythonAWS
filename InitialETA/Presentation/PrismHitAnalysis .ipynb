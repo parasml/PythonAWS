{
 "cells": [
  {
   "cell_type": "markdown",
   "metadata": {},
   "source": [
    "# Predict ETA (Hit)"
   ]
  },
  {
   "cell_type": "code",
   "execution_count": 3,
   "metadata": {},
   "outputs": [],
   "source": [
    "# Python required libraries\n",
    "#----------------------------\n",
    "import numpy as np\n",
    "import pandas as pd\n",
    "import seaborn as sns\n",
    "import matplotlib.pyplot as plt\n",
    "from matplotlib import mlab\n",
    "\n",
    "import warnings\n",
    "warnings.filterwarnings(\"ignore\")"
   ]
  },
  {
   "cell_type": "markdown",
   "metadata": {},
   "source": [
    "# Loading Clear Data"
   ]
  },
  {
   "cell_type": "code",
   "execution_count": 4,
   "metadata": {},
   "outputs": [],
   "source": [
    "# Loading data(1 month data)\n",
    "#-------------------\n",
    "df_CSV = pd.read_csv('../CSV/Prism/prism_hit.csv')"
   ]
  },
  {
   "cell_type": "code",
   "execution_count": 5,
   "metadata": {
    "scrolled": true
   },
   "outputs": [
    {
     "name": "stdout",
     "output_type": "stream",
     "text": [
      "Total hit observations =  175640\n"
     ]
    },
    {
     "data": {
      "text/html": [
       "<div>\n",
       "<style scoped>\n",
       "    .dataframe tbody tr th:only-of-type {\n",
       "        vertical-align: middle;\n",
       "    }\n",
       "\n",
       "    .dataframe tbody tr th {\n",
       "        vertical-align: top;\n",
       "    }\n",
       "\n",
       "    .dataframe thead th {\n",
       "        text-align: right;\n",
       "    }\n",
       "</style>\n",
       "<table border=\"1\" class=\"dataframe\">\n",
       "  <thead>\n",
       "    <tr style=\"text-align: right;\">\n",
       "      <th></th>\n",
       "      <th>ScreeningID</th>\n",
       "      <th>IFN_ID</th>\n",
       "      <th>State</th>\n",
       "      <th>County</th>\n",
       "      <th>ScreeningQualifier</th>\n",
       "      <th>ScreeningType</th>\n",
       "      <th>StartDateTime</th>\n",
       "      <th>PublishDateTime</th>\n",
       "      <th>ResultStatus</th>\n",
       "      <th>Vendor</th>\n",
       "      <th>State-County</th>\n",
       "      <th>ETA</th>\n",
       "    </tr>\n",
       "  </thead>\n",
       "  <tbody>\n",
       "    <tr>\n",
       "      <th>0</th>\n",
       "      <td>ï»¿F400A985-F59C-42D0-8CDA-48840859F699</td>\n",
       "      <td>82902558</td>\n",
       "      <td>co</td>\n",
       "      <td>jefferson</td>\n",
       "      <td>county</td>\n",
       "      <td>criminal</td>\n",
       "      <td>2019-03-30 19:07:45.410</td>\n",
       "      <td>2019-03-30 19:08:58.313</td>\n",
       "      <td>hit</td>\n",
       "      <td>fdi_co_mc_cocourts</td>\n",
       "      <td>co_jefferson</td>\n",
       "      <td>1</td>\n",
       "    </tr>\n",
       "    <tr>\n",
       "      <th>1</th>\n",
       "      <td>B7C61DD0-D17E-44AC-ADB7-C575D7CE1BED</td>\n",
       "      <td>151554174</td>\n",
       "      <td>az</td>\n",
       "      <td>mohave</td>\n",
       "      <td>county</td>\n",
       "      <td>criminal</td>\n",
       "      <td>2019-03-30 14:51:39.823</td>\n",
       "      <td>2019-03-30 14:52:46.450</td>\n",
       "      <td>hit</td>\n",
       "      <td>fdi_az_statewide</td>\n",
       "      <td>az_mohave</td>\n",
       "      <td>1</td>\n",
       "    </tr>\n",
       "    <tr>\n",
       "      <th>2</th>\n",
       "      <td>40922C3B-2442-43D6-83AB-18C497C1AE20</td>\n",
       "      <td>82900922</td>\n",
       "      <td>fl</td>\n",
       "      <td>broward</td>\n",
       "      <td>county</td>\n",
       "      <td>criminal</td>\n",
       "      <td>2019-03-30 14:10:17.973</td>\n",
       "      <td>2019-03-30 14:54:53.290</td>\n",
       "      <td>hit</td>\n",
       "      <td>cwi_fl_broward_smd</td>\n",
       "      <td>fl_broward</td>\n",
       "      <td>44</td>\n",
       "    </tr>\n",
       "  </tbody>\n",
       "</table>\n",
       "</div>"
      ],
      "text/plain": [
       "                               ScreeningID     IFN_ID State     County  \\\n",
       "0  ï»¿F400A985-F59C-42D0-8CDA-48840859F699   82902558    co  jefferson   \n",
       "1     B7C61DD0-D17E-44AC-ADB7-C575D7CE1BED  151554174    az     mohave   \n",
       "2     40922C3B-2442-43D6-83AB-18C497C1AE20   82900922    fl    broward   \n",
       "\n",
       "  ScreeningQualifier ScreeningType            StartDateTime  \\\n",
       "0             county      criminal  2019-03-30 19:07:45.410   \n",
       "1             county      criminal  2019-03-30 14:51:39.823   \n",
       "2             county      criminal  2019-03-30 14:10:17.973   \n",
       "\n",
       "           PublishDateTime ResultStatus              Vendor  State-County  ETA  \n",
       "0  2019-03-30 19:08:58.313          hit  fdi_co_mc_cocourts  co_jefferson    1  \n",
       "1  2019-03-30 14:52:46.450          hit    fdi_az_statewide     az_mohave    1  \n",
       "2  2019-03-30 14:54:53.290          hit  cwi_fl_broward_smd    fl_broward   44  "
      ]
     },
     "execution_count": 5,
     "metadata": {},
     "output_type": "execute_result"
    }
   ],
   "source": [
    "# Checking data\n",
    "#-----------------\n",
    "print(\"Total hit observations = \", df_CSV.shape[0])\n",
    "df_CSV.head(3)"
   ]
  },
  {
   "cell_type": "markdown",
   "metadata": {},
   "source": [
    "# ETA Analysis of ALL (Clear Requests)"
   ]
  },
  {
   "cell_type": "code",
   "execution_count": 6,
   "metadata": {},
   "outputs": [
    {
     "data": {
      "text/plain": [
       "<matplotlib.axes._subplots.AxesSubplot at 0x2270ed44cc0>"
      ]
     },
     "execution_count": 6,
     "metadata": {},
     "output_type": "execute_result"
    },
    {
     "data": {
      "image/png": "[encoded data removed]",
      "text/plain": [
       "<Figure size 432x288 with 1 Axes>"
      ]
     },
     "metadata": {
      "needs_background": "light"
     },
     "output_type": "display_data"
    }
   ],
   "source": [
    "# PLoting hist of ETA less than 10\n",
    "# Outcome: More than half of requests have an ETA less than 1 min.\n",
    "#-----------------------------------\n",
    "df_CSV[df_CSV['ETA'] < 10]['ETA'].hist()"
   ]
  },
  {
   "cell_type": "code",
   "execution_count": 7,
   "metadata": {},
   "outputs": [
    {
     "name": "stdout",
     "output_type": "stream",
     "text": [
      "min =  1\n",
      "max =  8122\n",
      "---------------\n",
      "10    - 1.0\n",
      "20    - 1.0\n",
      "30    - 1.0\n",
      "40    - 2.0\n",
      "50    - 3.0\n",
      "60    - 6.0\n",
      "70    - 8.0\n",
      "80    - 26.0\n",
      "90    - 91.0\n",
      "91    - 116.0\n",
      "92    - 138.0\n",
      "93    - 171.0\n",
      "94    - 218.0\n",
      "95    - 325.0\n",
      "96    - 449.0\n",
      "97    - 552.0\n",
      "98    - 659.0\n",
      "99    - 966.0\n",
      "100    - 8122.0\n"
     ]
    }
   ],
   "source": [
    "# Creating percentile of ETA( Clear )\n",
    "#-------------------------\n",
    "\n",
    "print(\"min = \", df_CSV[\"ETA\"].min())\n",
    "print(\"max = \", df_CSV[\"ETA\"].max())\n",
    "print(\"---------------\")\n",
    "\n",
    "def percentile_show(x):\n",
    "    for per in x:\n",
    "        print(per,\"   -\",np.round(np.percentile(df_CSV[\"ETA\"],per),2))\n",
    "        pass\n",
    "    pass\n",
    "\n",
    "\n",
    "x = [10,20,30,40,50,60,70,80,90,91, 92, 93, 94, 95,96,97,98,99,100]\n",
    "percentile_show(x)\n"
   ]
  },
  {
   "cell_type": "code",
   "execution_count": 8,
   "metadata": {},
   "outputs": [
    {
     "data": {
      "image/png": "[encoded data removed]",
      "text/plain": [
       "<Figure size 432x288 with 1 Axes>"
      ]
     },
     "metadata": {
      "needs_background": "light"
     },
     "output_type": "display_data"
    }
   ],
   "source": [
    "# PLoting ETA (Total) percentile\n",
    "#-----------------------------------\n",
    "\n",
    "#d = np.sort(df_CSV[\"ETA\"]).cumsum()\n",
    "d = np.sort(df_CSV[\"ETA\"])\n",
    "\n",
    "#print(\"d = \", d)\n",
    "# Percentile values\n",
    "p = np.array([0.0, 25.0, 50.0, 75.0, 100.0])\n",
    "\n",
    "perc = mlab.prctile(d, p=p)\n",
    "\n",
    "plt.plot(d)\n",
    "# Place red dots on the percentiles\n",
    "plt.plot((len(d)-1) * p/100., perc, 'ro')\n",
    "\n",
    "# Set tick locations and labels\n",
    "plt.xticks((len(d)-1) * p/100., map(str, p))\n",
    "\n",
    "plt.show()"
   ]
  },
  {
   "cell_type": "markdown",
   "metadata": {},
   "source": [
    "# Group By State-County"
   ]
  },
  {
   "cell_type": "code",
   "execution_count": 9,
   "metadata": {},
   "outputs": [
    {
     "data": {
      "text/plain": [
       "<pandas.core.groupby.groupby.DataFrameGroupBy object at 0x000002270EF3AF60>"
      ]
     },
     "execution_count": 9,
     "metadata": {},
     "output_type": "execute_result"
    }
   ],
   "source": [
    "# Split clear data state-county wise\n",
    "#------------------------------------------\n",
    "\n",
    "#df_CSV.groupby(['State','State-County'])['ETA'].mean()\n",
    "\n",
    "df_Group_State = df_CSV.groupby(['State','County', 'State-County'])\n",
    "\n",
    "df_Group_State"
   ]
  },
  {
   "cell_type": "code",
   "execution_count": 10,
   "metadata": {},
   "outputs": [
    {
     "name": "stdout",
     "output_type": "stream",
     "text": [
      "Total State-county counts=  1382\n"
     ]
    }
   ],
   "source": [
    "# Get Statistics of each state-county ETA\n",
    "#----------------------------------------------\n",
    "import math\n",
    "\n",
    "# ETA Mean -------\n",
    "ETA_Mean = round(df_Group_State['ETA'].mean())\n",
    "#print(\"ETA_Mean.shape = \", ETA_Mean.shape)\n",
    "\n",
    "# ETA Median -------\n",
    "ETA_Median = round(df_Group_State['ETA'].median())\n",
    "\n",
    "# ETA Kurt --------\n",
    "#ETA_Kurt = df_Group_State['ETA'].apply(pd.DataFrame.kurt)\n",
    "\n",
    "# Eta Skew-------\n",
    "ETA_Skew = df_Group_State['ETA'].apply(pd.DataFrame.skew)\n",
    "\n",
    "# Eta Count------\n",
    "ETA_Count = df_Group_State['ETA'].count()\n",
    "\n",
    "# ETA Max --------\n",
    "ETA_Max = round(df_Group_State['ETA'].max())\n",
    "\n",
    "\n",
    "# ETA Percentile (25%)--------\n",
    "ETA_Quantile_25 = round(df_Group_State[\"ETA\"].quantile(0.25))\n",
    "\n",
    "\n",
    "# ETA Percentile (75%)--------\n",
    "ETA_Quantile_75 = round(df_Group_State[\"ETA\"].quantile(0.75))\n",
    "\n",
    "# ETA Percentile (95%)--------\n",
    "ETA_Quantile_95 = round(df_Group_State[\"ETA\"].quantile(0.95))\n",
    "#print(\"ETA_Quantile.shape = \", ETA_Quantile.shape)\n",
    "\n",
    "# ETA Percentile (99%)--------\n",
    "ETA_Quantile_99 = round(df_Group_State[\"ETA\"].quantile(0.99))\n",
    "#print(\"ETA_Quantile.shape = \", ETA_Quantile.shape)\n",
    "\n",
    "# ETA IQR (Interquartile Range)-------\n",
    "ETA_IQR = round((ETA_Quantile_75 - ETA_Quantile_25)*1.5)\n",
    "#ETA_IQR\n",
    "\n",
    "# Lower and Upper Outliers--------\n",
    "\n",
    "ETA_LowerOutlier = ETA_Quantile_25 - ETA_IQR\n",
    "ETA_LowerOutlier = ETA_LowerOutlier.apply(lambda x: 0 if x < 0 else x)\n",
    "\n",
    "ETA_UpperOutlier = ETA_Quantile_75 + ETA_IQR\n",
    "#ETA_LowerOutlier = ETA_UpperOutlier.apply(lambda x: 0 if x >= ETA_Max else x)\n",
    "\n",
    "\n",
    "\n",
    "print(\"Total State-county counts= \", ETA_Mean.shape[0])"
   ]
  },
  {
   "cell_type": "code",
   "execution_count": 11,
   "metadata": {},
   "outputs": [],
   "source": [
    "# Calculate Mode of ETA and Mode Count\n",
    "#--------------------------------------\n",
    "def CalculateMode(x):\n",
    "    #print(x)\n",
    "    #maxValue = x.value_counts().max()\n",
    "    idValue = x.value_counts().idxmax()\n",
    "    #print(\"maxValue\", maxValue)\n",
    "    #print(\"idValue\", idValue)\n",
    "    #print(\"--------\")\n",
    "    #print(x.value_counts())\n",
    "    return idValue\n",
    "\n",
    "def CalculateModeValueCount(x):\n",
    "\n",
    "    maxValue = x.value_counts().max()\n",
    "    return maxValue\n",
    "\n",
    "# ETA Mode -------\n",
    "ETA_Mode = df_Group_State['ETA'].apply(lambda x: CalculateMode(x))\n",
    "\n",
    "# ETA Mode Value Count -------\n",
    "ETA_Mode_Count = df_Group_State['ETA'].apply(lambda x: CalculateModeValueCount(x))\n",
    "\n",
    "\n",
    "ETA_ModePercentage = (ETA_Mode_Count/ETA_Count)*100\n",
    "#ETA_ModePercentage"
   ]
  },
  {
   "cell_type": "code",
   "execution_count": 12,
   "metadata": {},
   "outputs": [],
   "source": [
    "# Calculate count percentage of outliers\n",
    "# Percentage of request counts above 'Upper Quartile Range' and below 'Below Quartile Range'\n",
    "#-----------------------------------------------------------------------------------------\n",
    "\n",
    "def CalculatePercentile75(x, isUpper):\n",
    "    \n",
    "    quant75 = x.quantile(0.75)\n",
    "    quant25 = x.quantile(0.25)\n",
    "    \n",
    "    ETA_IQR = round((quant75 - quant25)*1.5)\n",
    "    \n",
    "    UpperIQR = quant75 + ETA_IQR\n",
    "    LowerIQR = quant25 - ETA_IQR\n",
    "    \n",
    "    if isUpper== True:\n",
    "        y = x[x > UpperIQR]\n",
    "    else:\n",
    "        y = x[x < LowerIQR]\n",
    "        \n",
    "    count = y.shape[0]\n",
    "    count1 = x.shape[0]\n",
    "    percent = (count/count1)*100\n",
    "    #print(y.shape[0])\n",
    "    return percent\n",
    "\n",
    "# ETA percentile count -------\n",
    "ETA_UpperOutlierPercentage = df_Group_State['ETA'].apply(lambda x: CalculatePercentile75(x, True))\n",
    "ETA_LowerOutlierPercentage = df_Group_State['ETA'].apply(lambda x: CalculatePercentile75(x, False))\n"
   ]
  },
  {
   "cell_type": "code",
   "execution_count": 13,
   "metadata": {},
   "outputs": [],
   "source": [
    "# Creating a DataFrame of all unique Groups (State and County) and their findings\n",
    "#---------------------------------------------------------\n",
    "df_County_ETA = pd.DataFrame(df_Group_State.size().reset_index(name = \"Count\"))\n",
    "\n",
    "#print(\"ETA_Mean = \", type(ETA_Mean))\n",
    "\n",
    "# Adding Mean, Max and Quantile to dataframe-----\n",
    "df_County_ETA['Mean'] = ETA_Mean.values\n",
    "\n",
    "df_County_ETA['Median'] = ETA_Median.values\n",
    "\n",
    "#df_County_ETA['Skew'] = df_County_ETA['Mean'] - df_County_ETA['Median'] \n",
    "\n",
    "df_County_ETA['Skew'] =  ETA_Skew.values\n",
    "\n",
    "df_County_ETA['Mode'] = ETA_Mode.values\n",
    "\n",
    "df_County_ETA['ModeCount'] = ETA_Mode_Count.values\n",
    "\n",
    "df_County_ETA['ModePercentage'] = ETA_ModePercentage.values\n",
    "\n",
    "df_County_ETA['Max'] = ETA_Max.values\n",
    "\n",
    "df_County_ETA['Quant_25'] = ETA_Quantile_25.values\n",
    "\n",
    "df_County_ETA['Quant_75'] = ETA_Quantile_75.values\n",
    "\n",
    "df_County_ETA['Quant_95'] = ETA_Quantile_95.values\n",
    "\n",
    "df_County_ETA['Quant_99'] = ETA_Quantile_99.values\n",
    "\n",
    "df_County_ETA['IQR'] = ETA_IQR.values\n",
    "\n",
    "df_County_ETA['LowerOutlier'] = ETA_LowerOutlier.values\n",
    "\n",
    "df_County_ETA['LowerOutlierPercentage'] = ETA_LowerOutlierPercentage.values\n",
    "\n",
    "df_County_ETA['UpperOutlier'] = ETA_UpperOutlier.values\n",
    "\n",
    "df_County_ETA['UpperOutlierPercentage'] = ETA_UpperOutlierPercentage.values\n",
    "\n"
   ]
  },
  {
   "cell_type": "code",
   "execution_count": 14,
   "metadata": {},
   "outputs": [
    {
     "data": {
      "text/html": [
       "<div>\n",
       "<style scoped>\n",
       "    .dataframe tbody tr th:only-of-type {\n",
       "        vertical-align: middle;\n",
       "    }\n",
       "\n",
       "    .dataframe tbody tr th {\n",
       "        vertical-align: top;\n",
       "    }\n",
       "\n",
       "    .dataframe thead th {\n",
       "        text-align: right;\n",
       "    }\n",
       "</style>\n",
       "<table border=\"1\" class=\"dataframe\">\n",
       "  <thead>\n",
       "    <tr style=\"text-align: right;\">\n",
       "      <th></th>\n",
       "      <th>State</th>\n",
       "      <th>County</th>\n",
       "      <th>State-County</th>\n",
       "      <th>Count</th>\n",
       "      <th>Mean</th>\n",
       "      <th>Median</th>\n",
       "      <th>Skew</th>\n",
       "      <th>Mode</th>\n",
       "      <th>ModeCount</th>\n",
       "      <th>ModePercentage</th>\n",
       "      <th>Max</th>\n",
       "      <th>Quant_25</th>\n",
       "      <th>Quant_75</th>\n",
       "      <th>Quant_90</th>\n",
       "      <th>Quant_95</th>\n",
       "      <th>IQR</th>\n",
       "      <th>LowerOutlier</th>\n",
       "      <th>LowerOutlierPercentage</th>\n",
       "      <th>UpperOutlier</th>\n",
       "      <th>UpperOutlierPercentage</th>\n",
       "    </tr>\n",
       "  </thead>\n",
       "  <tbody>\n",
       "    <tr>\n",
       "      <th>0</th>\n",
       "      <td>ak</td>\n",
       "      <td>aleutians west</td>\n",
       "      <td>ak_aleutians west</td>\n",
       "      <td>3</td>\n",
       "      <td>7.0</td>\n",
       "      <td>5.0</td>\n",
       "      <td>1.152070</td>\n",
       "      <td>15</td>\n",
       "      <td>1</td>\n",
       "      <td>33.333333</td>\n",
       "      <td>15</td>\n",
       "      <td>3.0</td>\n",
       "      <td>10.0</td>\n",
       "      <td>14.0</td>\n",
       "      <td>14.0</td>\n",
       "      <td>10.0</td>\n",
       "      <td>0.0</td>\n",
       "      <td>0.0</td>\n",
       "      <td>20.0</td>\n",
       "      <td>0.000000</td>\n",
       "    </tr>\n",
       "    <tr>\n",
       "      <th>1</th>\n",
       "      <td>ak</td>\n",
       "      <td>anchorage</td>\n",
       "      <td>ak_anchorage</td>\n",
       "      <td>310</td>\n",
       "      <td>2.0</td>\n",
       "      <td>1.0</td>\n",
       "      <td>4.656773</td>\n",
       "      <td>1</td>\n",
       "      <td>209</td>\n",
       "      <td>67.419355</td>\n",
       "      <td>28</td>\n",
       "      <td>1.0</td>\n",
       "      <td>2.0</td>\n",
       "      <td>7.0</td>\n",
       "      <td>7.0</td>\n",
       "      <td>2.0</td>\n",
       "      <td>0.0</td>\n",
       "      <td>0.0</td>\n",
       "      <td>4.0</td>\n",
       "      <td>11.612903</td>\n",
       "    </tr>\n",
       "    <tr>\n",
       "      <th>2</th>\n",
       "      <td>ak</td>\n",
       "      <td>fairbanks north star</td>\n",
       "      <td>ak_fairbanks north star</td>\n",
       "      <td>116</td>\n",
       "      <td>2.0</td>\n",
       "      <td>1.0</td>\n",
       "      <td>3.260446</td>\n",
       "      <td>1</td>\n",
       "      <td>86</td>\n",
       "      <td>74.137931</td>\n",
       "      <td>20</td>\n",
       "      <td>1.0</td>\n",
       "      <td>2.0</td>\n",
       "      <td>9.0</td>\n",
       "      <td>9.0</td>\n",
       "      <td>2.0</td>\n",
       "      <td>0.0</td>\n",
       "      <td>0.0</td>\n",
       "      <td>4.0</td>\n",
       "      <td>12.931034</td>\n",
       "    </tr>\n",
       "    <tr>\n",
       "      <th>3</th>\n",
       "      <td>ak</td>\n",
       "      <td>juneau</td>\n",
       "      <td>ak_juneau</td>\n",
       "      <td>22</td>\n",
       "      <td>2.0</td>\n",
       "      <td>1.0</td>\n",
       "      <td>1.975715</td>\n",
       "      <td>1</td>\n",
       "      <td>16</td>\n",
       "      <td>72.727273</td>\n",
       "      <td>8</td>\n",
       "      <td>1.0</td>\n",
       "      <td>2.0</td>\n",
       "      <td>5.0</td>\n",
       "      <td>5.0</td>\n",
       "      <td>2.0</td>\n",
       "      <td>0.0</td>\n",
       "      <td>0.0</td>\n",
       "      <td>4.0</td>\n",
       "      <td>22.727273</td>\n",
       "    </tr>\n",
       "    <tr>\n",
       "      <th>4</th>\n",
       "      <td>ak</td>\n",
       "      <td>kenai peninsula</td>\n",
       "      <td>ak_kenai peninsula</td>\n",
       "      <td>61</td>\n",
       "      <td>3.0</td>\n",
       "      <td>1.0</td>\n",
       "      <td>3.970063</td>\n",
       "      <td>1</td>\n",
       "      <td>40</td>\n",
       "      <td>65.573770</td>\n",
       "      <td>23</td>\n",
       "      <td>1.0</td>\n",
       "      <td>4.0</td>\n",
       "      <td>7.0</td>\n",
       "      <td>7.0</td>\n",
       "      <td>4.0</td>\n",
       "      <td>0.0</td>\n",
       "      <td>0.0</td>\n",
       "      <td>8.0</td>\n",
       "      <td>3.278689</td>\n",
       "    </tr>\n",
       "  </tbody>\n",
       "</table>\n",
       "</div>"
      ],
      "text/plain": [
       "  State                County             State-County  Count  Mean  Median  \\\n",
       "0    ak        aleutians west        ak_aleutians west      3   7.0     5.0   \n",
       "1    ak             anchorage             ak_anchorage    310   2.0     1.0   \n",
       "2    ak  fairbanks north star  ak_fairbanks north star    116   2.0     1.0   \n",
       "3    ak                juneau                ak_juneau     22   2.0     1.0   \n",
       "4    ak       kenai peninsula       ak_kenai peninsula     61   3.0     1.0   \n",
       "\n",
       "       Skew  Mode  ModeCount  ModePercentage  Max  Quant_25  Quant_75  \\\n",
       "0  1.152070    15          1       33.333333   15       3.0      10.0   \n",
       "1  4.656773     1        209       67.419355   28       1.0       2.0   \n",
       "2  3.260446     1         86       74.137931   20       1.0       2.0   \n",
       "3  1.975715     1         16       72.727273    8       1.0       2.0   \n",
       "4  3.970063     1         40       65.573770   23       1.0       4.0   \n",
       "\n",
       "   Quant_90  Quant_95   IQR  LowerOutlier  LowerOutlierPercentage  \\\n",
       "0      14.0      14.0  10.0           0.0                     0.0   \n",
       "1       7.0       7.0   2.0           0.0                     0.0   \n",
       "2       9.0       9.0   2.0           0.0                     0.0   \n",
       "3       5.0       5.0   2.0           0.0                     0.0   \n",
       "4       7.0       7.0   4.0           0.0                     0.0   \n",
       "\n",
       "   UpperOutlier  UpperOutlierPercentage  \n",
       "0          20.0                0.000000  \n",
       "1           4.0               11.612903  \n",
       "2           4.0               12.931034  \n",
       "3           4.0               22.727273  \n",
       "4           8.0                3.278689  "
      ]
     },
     "execution_count": 14,
     "metadata": {},
     "output_type": "execute_result"
    }
   ],
   "source": [
    "df_County_ETA.head()"
   ]
  },
  {
   "cell_type": "markdown",
   "metadata": {},
   "source": [
    "# Statistical Calculations Analysis"
   ]
  },
  {
   "cell_type": "code",
   "execution_count": 15,
   "metadata": {},
   "outputs": [],
   "source": [
    "# Creating a new Dataframe\n",
    "\n",
    "df_Calculated_ETA = pd.DataFrame()"
   ]
  },
  {
   "cell_type": "code",
   "execution_count": 16,
   "metadata": {
    "scrolled": true
   },
   "outputs": [
    {
     "data": {
      "text/html": [
       "<div>\n",
       "<style scoped>\n",
       "    .dataframe tbody tr th:only-of-type {\n",
       "        vertical-align: middle;\n",
       "    }\n",
       "\n",
       "    .dataframe tbody tr th {\n",
       "        vertical-align: top;\n",
       "    }\n",
       "\n",
       "    .dataframe thead th {\n",
       "        text-align: right;\n",
       "    }\n",
       "</style>\n",
       "<table border=\"1\" class=\"dataframe\">\n",
       "  <thead>\n",
       "    <tr style=\"text-align: right;\">\n",
       "      <th></th>\n",
       "      <th>State</th>\n",
       "      <th>County</th>\n",
       "      <th>State-County</th>\n",
       "      <th>Count</th>\n",
       "      <th>Mean</th>\n",
       "      <th>Median</th>\n",
       "      <th>Skew</th>\n",
       "      <th>Mode</th>\n",
       "      <th>ModeCount</th>\n",
       "      <th>ModePercentage</th>\n",
       "      <th>Max</th>\n",
       "      <th>Quant_25</th>\n",
       "      <th>Quant_75</th>\n",
       "      <th>Quant_90</th>\n",
       "      <th>Quant_95</th>\n",
       "      <th>IQR</th>\n",
       "      <th>LowerOutlier</th>\n",
       "      <th>LowerOutlierPercentage</th>\n",
       "      <th>UpperOutlier</th>\n",
       "      <th>UpperOutlierPercentage</th>\n",
       "    </tr>\n",
       "  </thead>\n",
       "  <tbody>\n",
       "    <tr>\n",
       "      <th>0</th>\n",
       "      <td>ak</td>\n",
       "      <td>aleutians west</td>\n",
       "      <td>ak_aleutians west</td>\n",
       "      <td>3</td>\n",
       "      <td>7.0</td>\n",
       "      <td>5.0</td>\n",
       "      <td>1.152070</td>\n",
       "      <td>15</td>\n",
       "      <td>1</td>\n",
       "      <td>33.333333</td>\n",
       "      <td>15</td>\n",
       "      <td>3.0</td>\n",
       "      <td>10.0</td>\n",
       "      <td>14.0</td>\n",
       "      <td>14.0</td>\n",
       "      <td>10.0</td>\n",
       "      <td>0.0</td>\n",
       "      <td>0.0</td>\n",
       "      <td>20.0</td>\n",
       "      <td>0.000000</td>\n",
       "    </tr>\n",
       "    <tr>\n",
       "      <th>1</th>\n",
       "      <td>ak</td>\n",
       "      <td>anchorage</td>\n",
       "      <td>ak_anchorage</td>\n",
       "      <td>310</td>\n",
       "      <td>2.0</td>\n",
       "      <td>1.0</td>\n",
       "      <td>4.656773</td>\n",
       "      <td>1</td>\n",
       "      <td>209</td>\n",
       "      <td>67.419355</td>\n",
       "      <td>28</td>\n",
       "      <td>1.0</td>\n",
       "      <td>2.0</td>\n",
       "      <td>7.0</td>\n",
       "      <td>7.0</td>\n",
       "      <td>2.0</td>\n",
       "      <td>0.0</td>\n",
       "      <td>0.0</td>\n",
       "      <td>4.0</td>\n",
       "      <td>11.612903</td>\n",
       "    </tr>\n",
       "    <tr>\n",
       "      <th>2</th>\n",
       "      <td>ak</td>\n",
       "      <td>fairbanks north star</td>\n",
       "      <td>ak_fairbanks north star</td>\n",
       "      <td>116</td>\n",
       "      <td>2.0</td>\n",
       "      <td>1.0</td>\n",
       "      <td>3.260446</td>\n",
       "      <td>1</td>\n",
       "      <td>86</td>\n",
       "      <td>74.137931</td>\n",
       "      <td>20</td>\n",
       "      <td>1.0</td>\n",
       "      <td>2.0</td>\n",
       "      <td>9.0</td>\n",
       "      <td>9.0</td>\n",
       "      <td>2.0</td>\n",
       "      <td>0.0</td>\n",
       "      <td>0.0</td>\n",
       "      <td>4.0</td>\n",
       "      <td>12.931034</td>\n",
       "    </tr>\n",
       "    <tr>\n",
       "      <th>3</th>\n",
       "      <td>ak</td>\n",
       "      <td>juneau</td>\n",
       "      <td>ak_juneau</td>\n",
       "      <td>22</td>\n",
       "      <td>2.0</td>\n",
       "      <td>1.0</td>\n",
       "      <td>1.975715</td>\n",
       "      <td>1</td>\n",
       "      <td>16</td>\n",
       "      <td>72.727273</td>\n",
       "      <td>8</td>\n",
       "      <td>1.0</td>\n",
       "      <td>2.0</td>\n",
       "      <td>5.0</td>\n",
       "      <td>5.0</td>\n",
       "      <td>2.0</td>\n",
       "      <td>0.0</td>\n",
       "      <td>0.0</td>\n",
       "      <td>4.0</td>\n",
       "      <td>22.727273</td>\n",
       "    </tr>\n",
       "    <tr>\n",
       "      <th>4</th>\n",
       "      <td>ak</td>\n",
       "      <td>kenai peninsula</td>\n",
       "      <td>ak_kenai peninsula</td>\n",
       "      <td>61</td>\n",
       "      <td>3.0</td>\n",
       "      <td>1.0</td>\n",
       "      <td>3.970063</td>\n",
       "      <td>1</td>\n",
       "      <td>40</td>\n",
       "      <td>65.573770</td>\n",
       "      <td>23</td>\n",
       "      <td>1.0</td>\n",
       "      <td>4.0</td>\n",
       "      <td>7.0</td>\n",
       "      <td>7.0</td>\n",
       "      <td>4.0</td>\n",
       "      <td>0.0</td>\n",
       "      <td>0.0</td>\n",
       "      <td>8.0</td>\n",
       "      <td>3.278689</td>\n",
       "    </tr>\n",
       "  </tbody>\n",
       "</table>\n",
       "</div>"
      ],
      "text/plain": [
       "  State                County             State-County  Count  Mean  Median  \\\n",
       "0    ak        aleutians west        ak_aleutians west      3   7.0     5.0   \n",
       "1    ak             anchorage             ak_anchorage    310   2.0     1.0   \n",
       "2    ak  fairbanks north star  ak_fairbanks north star    116   2.0     1.0   \n",
       "3    ak                juneau                ak_juneau     22   2.0     1.0   \n",
       "4    ak       kenai peninsula       ak_kenai peninsula     61   3.0     1.0   \n",
       "\n",
       "       Skew  Mode  ModeCount  ModePercentage  Max  Quant_25  Quant_75  \\\n",
       "0  1.152070    15          1       33.333333   15       3.0      10.0   \n",
       "1  4.656773     1        209       67.419355   28       1.0       2.0   \n",
       "2  3.260446     1         86       74.137931   20       1.0       2.0   \n",
       "3  1.975715     1         16       72.727273    8       1.0       2.0   \n",
       "4  3.970063     1         40       65.573770   23       1.0       4.0   \n",
       "\n",
       "   Quant_90  Quant_95   IQR  LowerOutlier  LowerOutlierPercentage  \\\n",
       "0      14.0      14.0  10.0           0.0                     0.0   \n",
       "1       7.0       7.0   2.0           0.0                     0.0   \n",
       "2       9.0       9.0   2.0           0.0                     0.0   \n",
       "3       5.0       5.0   2.0           0.0                     0.0   \n",
       "4       7.0       7.0   4.0           0.0                     0.0   \n",
       "\n",
       "   UpperOutlier  UpperOutlierPercentage  \n",
       "0          20.0                0.000000  \n",
       "1           4.0               11.612903  \n",
       "2           4.0               12.931034  \n",
       "3           4.0               22.727273  \n",
       "4           8.0                3.278689  "
      ]
     },
     "execution_count": 16,
     "metadata": {},
     "output_type": "execute_result"
    }
   ],
   "source": [
    "df_County_ETA.shape\n",
    "df_County_ETA.head()"
   ]
  },
  {
   "cell_type": "code",
   "execution_count": 17,
   "metadata": {},
   "outputs": [],
   "source": [
    "df_County_ETA_Mean = df_County_ETA"
   ]
  },
  {
   "cell_type": "markdown",
   "metadata": {},
   "source": [
    "# Perfect Data"
   ]
  },
  {
   "cell_type": "code",
   "execution_count": 18,
   "metadata": {},
   "outputs": [
    {
     "name": "stdout",
     "output_type": "stream",
     "text": [
      "State-county having perfect data =  32\n",
      "State-county having outliers =  1350\n"
     ]
    }
   ],
   "source": [
    "# TAking Mean ETA for perfect data\n",
    "#-----------------------------------------\n",
    "df_Skew = df_County_ETA_Mean[df_County_ETA['Skew'] == 0]\n",
    "#df_Calculated_ETA = df_Skew\n",
    "df_Calculated_ETA = df_Calculated_ETA.append(df_Skew[['State', 'County', 'State-County', 'Mean']], sort=False)\n",
    "\n",
    "print(\"State-county having perfect data = \", df_Skew.shape[0])\n",
    "\n",
    "#Excluding all the perfect data now----\n",
    "df_County_ETA_Mean = df_County_ETA_Mean[df_County_ETA['Skew'] != 0]\n",
    "df_County_ETA_Mean.shape\n",
    "print(\"State-county having outliers = \", df_County_ETA_Mean.shape[0])"
   ]
  },
  {
   "cell_type": "markdown",
   "metadata": {},
   "source": [
    "# Mode count values with greater than 80%"
   ]
  },
  {
   "cell_type": "code",
   "execution_count": 19,
   "metadata": {},
   "outputs": [
    {
     "name": "stdout",
     "output_type": "stream",
     "text": [
      "State-county having mode greater than 80%  =  142\n"
     ]
    }
   ],
   "source": [
    "# Taking Mode, if Mode value count is above 80%\n",
    "#-------------------------\n",
    "df_Mode = df_County_ETA_Mean[df_County_ETA_Mean['ModePercentage'] >= 80]\n",
    "\n",
    "print(\"State-county having mode greater than 80%  = \", df_Mode.shape[0])\n",
    "\n",
    "df_Calculated_ETA = df_Calculated_ETA.append(df_Mode[['State', 'County', 'State-County', 'Mean']], sort=False)\n",
    "\n",
    "\n",
    "#Excluding all the perfect data now----\n",
    "df_County_ETA_Mean = df_County_ETA_Mean[df_County_ETA['ModePercentage'] < 80]"
   ]
  },
  {
   "cell_type": "code",
   "execution_count": 21,
   "metadata": {},
   "outputs": [
    {
     "data": {
      "text/html": [
       "<div>\n",
       "<style scoped>\n",
       "    .dataframe tbody tr th:only-of-type {\n",
       "        vertical-align: middle;\n",
       "    }\n",
       "\n",
       "    .dataframe tbody tr th {\n",
       "        vertical-align: top;\n",
       "    }\n",
       "\n",
       "    .dataframe thead th {\n",
       "        text-align: right;\n",
       "    }\n",
       "</style>\n",
       "<table border=\"1\" class=\"dataframe\">\n",
       "  <thead>\n",
       "    <tr style=\"text-align: right;\">\n",
       "      <th></th>\n",
       "      <th>State</th>\n",
       "      <th>County</th>\n",
       "      <th>State-County</th>\n",
       "      <th>Count</th>\n",
       "      <th>Mean</th>\n",
       "      <th>Median</th>\n",
       "      <th>Skew</th>\n",
       "      <th>Mode</th>\n",
       "      <th>ModeCount</th>\n",
       "      <th>ModePercentage</th>\n",
       "      <th>Max</th>\n",
       "      <th>Quant_25</th>\n",
       "      <th>Quant_75</th>\n",
       "      <th>Quant_90</th>\n",
       "      <th>Quant_95</th>\n",
       "      <th>IQR</th>\n",
       "      <th>LowerOutlier</th>\n",
       "      <th>LowerOutlierPercentage</th>\n",
       "      <th>UpperOutlier</th>\n",
       "      <th>UpperOutlierPercentage</th>\n",
       "    </tr>\n",
       "  </thead>\n",
       "  <tbody>\n",
       "    <tr>\n",
       "      <th>0</th>\n",
       "      <td>ak</td>\n",
       "      <td>aleutians west</td>\n",
       "      <td>ak_aleutians west</td>\n",
       "      <td>3</td>\n",
       "      <td>7.0</td>\n",
       "      <td>5.0</td>\n",
       "      <td>1.152070</td>\n",
       "      <td>15</td>\n",
       "      <td>1</td>\n",
       "      <td>33.333333</td>\n",
       "      <td>15</td>\n",
       "      <td>3.0</td>\n",
       "      <td>10.0</td>\n",
       "      <td>14.0</td>\n",
       "      <td>14.0</td>\n",
       "      <td>10.0</td>\n",
       "      <td>0.0</td>\n",
       "      <td>0.0</td>\n",
       "      <td>20.0</td>\n",
       "      <td>0.000000</td>\n",
       "    </tr>\n",
       "    <tr>\n",
       "      <th>1</th>\n",
       "      <td>ak</td>\n",
       "      <td>anchorage</td>\n",
       "      <td>ak_anchorage</td>\n",
       "      <td>310</td>\n",
       "      <td>2.0</td>\n",
       "      <td>1.0</td>\n",
       "      <td>4.656773</td>\n",
       "      <td>1</td>\n",
       "      <td>209</td>\n",
       "      <td>67.419355</td>\n",
       "      <td>28</td>\n",
       "      <td>1.0</td>\n",
       "      <td>2.0</td>\n",
       "      <td>7.0</td>\n",
       "      <td>7.0</td>\n",
       "      <td>2.0</td>\n",
       "      <td>0.0</td>\n",
       "      <td>0.0</td>\n",
       "      <td>4.0</td>\n",
       "      <td>11.612903</td>\n",
       "    </tr>\n",
       "  </tbody>\n",
       "</table>\n",
       "</div>"
      ],
      "text/plain": [
       "  State          County       State-County  Count  Mean  Median      Skew  \\\n",
       "0    ak  aleutians west  ak_aleutians west      3   7.0     5.0  1.152070   \n",
       "1    ak       anchorage       ak_anchorage    310   2.0     1.0  4.656773   \n",
       "\n",
       "   Mode  ModeCount  ModePercentage  Max  Quant_25  Quant_75  Quant_90  \\\n",
       "0    15          1       33.333333   15       3.0      10.0      14.0   \n",
       "1     1        209       67.419355   28       1.0       2.0       7.0   \n",
       "\n",
       "   Quant_95   IQR  LowerOutlier  LowerOutlierPercentage  UpperOutlier  \\\n",
       "0      14.0  10.0           0.0                     0.0          20.0   \n",
       "1       7.0   2.0           0.0                     0.0           4.0   \n",
       "\n",
       "   UpperOutlierPercentage  \n",
       "0                0.000000  \n",
       "1               11.612903  "
      ]
     },
     "execution_count": 21,
     "metadata": {},
     "output_type": "execute_result"
    }
   ],
   "source": [
    "df_County_ETA_Mean.head(2)"
   ]
  },
  {
   "cell_type": "markdown",
   "metadata": {},
   "source": [
    "# Right Skew"
   ]
  },
  {
   "cell_type": "code",
   "execution_count": 22,
   "metadata": {},
   "outputs": [
    {
     "data": {
      "text/plain": [
       "(174, 4)"
      ]
     },
     "execution_count": 22,
     "metadata": {},
     "output_type": "execute_result"
    }
   ],
   "source": [
    "df_County_ETA_Mean.shape\n",
    "df_Calculated_ETA.shape"
   ]
  },
  {
   "cell_type": "code",
   "execution_count": 23,
   "metadata": {},
   "outputs": [
    {
     "name": "stdout",
     "output_type": "stream",
     "text": [
      "State-County with 75 percentile as perfect data =  939\n"
     ]
    }
   ],
   "source": [
    "# Our data consists of left and right skew data now.\n",
    "#----------------------\n",
    "# Remove the upper outliers if their count is less than 20%\n",
    "# Replace their mean with new mean/Median\n",
    "\n",
    "df_County_ETA_RightSkew = df_County_ETA_Mean[(df_County_ETA_Mean['UpperOutlierPercentage']  <=  20) & (df_County_ETA_Mean['Skew'] > 0)]\n",
    "df_County_ETA_RightSkew.shape\n",
    "\n",
    "print(\"State-County with 75 percentile as perfect data = \", df_County_ETA_RightSkew.shape[0])\n",
    "\n",
    "#Excluding all the perfect data now----\n",
    "df_County_ETA_Mean = pd.concat([df_County_ETA_Mean, df_County_ETA_RightSkew]).drop_duplicates(keep=False)\n",
    "#df_County_ETA_Mean.shape\n"
   ]
  },
  {
   "cell_type": "code",
   "execution_count": 24,
   "metadata": {},
   "outputs": [
    {
     "data": {
      "text/plain": [
       "(137463, 12)"
      ]
     },
     "execution_count": 24,
     "metadata": {},
     "output_type": "execute_result"
    }
   ],
   "source": [
    "df_CSV_1 = df_CSV[(df_CSV['State-County'].isin(df_County_ETA_RightSkew['State-County']))]\n",
    "\n",
    "df_CSV_1.shape\n"
   ]
  },
  {
   "cell_type": "code",
   "execution_count": 25,
   "metadata": {},
   "outputs": [],
   "source": [
    "df_CSV_1.shape\n",
    "\n",
    "df_Group_State1 = df_CSV_1.groupby(['State','County', 'State-County'])\n",
    "\n",
    "# Calculate Mode of ETA and Mode Count\n",
    "#--------------------------------------\n",
    "def CalculateNewMean(x):\n",
    "\n",
    "    upperLimit = x.quantile(.75)\n",
    "    x = x[x <= upperLimit]\n",
    "    \n",
    "    return round(x.mean())\n",
    "\n",
    "# ETA Mode -------\n",
    "ETA_NewMean = df_Group_State1['ETA'].apply(lambda x: CalculateNewMean(x))\n"
   ]
  },
  {
   "cell_type": "code",
   "execution_count": 26,
   "metadata": {},
   "outputs": [
    {
     "data": {
      "text/plain": [
       "(939, 5)"
      ]
     },
     "execution_count": 26,
     "metadata": {},
     "output_type": "execute_result"
    }
   ],
   "source": [
    "df_County_ETA1 = pd.DataFrame(df_Group_State1.size().reset_index(name = \"Count\"))\n",
    "df_County_ETA1['Mean'] = ETA_NewMean.values\n",
    "df_County_ETA1.shape"
   ]
  },
  {
   "cell_type": "markdown",
   "metadata": {},
   "source": [
    "# Left Skew Data"
   ]
  },
  {
   "cell_type": "code",
   "execution_count": 27,
   "metadata": {},
   "outputs": [
    {
     "data": {
      "text/plain": [
       "(443, 20)"
      ]
     },
     "execution_count": 27,
     "metadata": {},
     "output_type": "execute_result"
    }
   ],
   "source": [
    "# Our data consists of left and right skew data now.\n",
    "#----------------------\n",
    "# Remove the upper outliers if their count is less than 20%\n",
    "# Replace their mean with new mean/Median\n",
    "\n",
    "df_County_ETA_RightSkew = df_County_ETA_Mean[(df_County_ETA_Mean['Skew'] > 0)]\n",
    "df_County_ETA_RightSkew.shape\n",
    "\n",
    "print(\"State-County with 75 percentile as perfect data = \", df_County_ETA_RightSkew.shape[0])\n",
    "\n",
    "#Excluding all the perfect data now----\n",
    "df_County_ETA_Mean = pd.concat([df_County_ETA_Mean, df_County_ETA_RightSkew]).drop_duplicates(keep=False)\n",
    "#df_County_ETA_Mean.shape\n"
   ]
  },
  {
   "cell_type": "code",
   "execution_count": 601,
   "metadata": {},
   "outputs": [
    {
     "data": {
      "text/plain": [
       "(300, 18)"
      ]
     },
     "execution_count": 601,
     "metadata": {},
     "output_type": "execute_result"
    }
   ],
   "source": [
    "df_County_ETA.shape"
   ]
  },
  {
   "cell_type": "code",
   "execution_count": null,
   "metadata": {},
   "outputs": [],
   "source": []
  },
  {
   "cell_type": "markdown",
   "metadata": {},
   "source": [
    "# Remaining Data"
   ]
  },
  {
   "cell_type": "code",
   "execution_count": null,
   "metadata": {},
   "outputs": [],
   "source": [
    "df_CSV_1.drop()\n",
    "\n",
    "ETA_LowerOutlier.apply(lambda x: 0 if x < 0 else x)\n"
   ]
  },
  {
   "cell_type": "code",
   "execution_count": null,
   "metadata": {},
   "outputs": [],
   "source": [
    "df_CSV.groupby(['State-County','County', 'State-County'])\n",
    "\n",
    "df_County_ETA['UpperOutlier']"
   ]
  },
  {
   "cell_type": "code",
   "execution_count": null,
   "metadata": {},
   "outputs": [],
   "source": [
    "df_Group_State1 = df_CSV_1.groupby(['State','County', 'State-County'])\n",
    "\n",
    "ETA_Mean = round(df_Group_State1['ETA'].mean())\n",
    "\n",
    "\n",
    "\n",
    "ETA_Mean.shape"
   ]
  },
  {
   "cell_type": "code",
   "execution_count": null,
   "metadata": {},
   "outputs": [],
   "source": []
  },
  {
   "cell_type": "code",
   "execution_count": null,
   "metadata": {},
   "outputs": [],
   "source": []
  }
 ],
 "metadata": {
  "kernelspec": {
   "display_name": "Python 3",
   "language": "python",
   "name": "python3"
  },
  "language_info": {
   "codemirror_mode": {
    "name": "ipython",
    "version": 3
   },
   "file_extension": ".py",
   "mimetype": "text/x-python",
   "name": "python",
   "nbconvert_exporter": "python",
   "pygments_lexer": "ipython3",
   "version": "3.7.1"
  }
 },
 "nbformat": 4,
 "nbformat_minor": 2
}
