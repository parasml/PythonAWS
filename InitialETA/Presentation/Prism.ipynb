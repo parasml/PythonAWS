{
 "cells": [
  {
   "cell_type": "markdown",
   "metadata": {},
   "source": [
    "# Prism Initial ETA"
   ]
  },
  {
   "cell_type": "code",
   "execution_count": 25,
   "metadata": {},
   "outputs": [],
   "source": [
    "# Python required libraries\n",
    "#----------------------------\n",
    "import numpy as np\n",
    "import pandas as pd\n",
    "import seaborn as sns\n",
    "import matplotlib.pyplot as plt\n",
    "from matplotlib import mlab\n",
    "\n",
    "import warnings\n",
    "warnings.filterwarnings(\"ignore\")"
   ]
  },
  {
   "cell_type": "markdown",
   "metadata": {},
   "source": [
    "# Loading the Data"
   ]
  },
  {
   "cell_type": "code",
   "execution_count": 26,
   "metadata": {},
   "outputs": [],
   "source": [
    "# Loading data(1 month data)\n",
    "#-------------------\n",
    "df_CSV = pd.read_csv('../CSV/Prism/prism.csv', header=None, engine='python')"
   ]
  },
  {
   "cell_type": "code",
   "execution_count": 27,
   "metadata": {},
   "outputs": [
    {
     "name": "stdout",
     "output_type": "stream",
     "text": [
      "shape of Data=  (1022461, 10)\n"
     ]
    },
    {
     "data": {
      "text/html": [
       "<div>\n",
       "<style scoped>\n",
       "    .dataframe tbody tr th:only-of-type {\n",
       "        vertical-align: middle;\n",
       "    }\n",
       "\n",
       "    .dataframe tbody tr th {\n",
       "        vertical-align: top;\n",
       "    }\n",
       "\n",
       "    .dataframe thead th {\n",
       "        text-align: right;\n",
       "    }\n",
       "</style>\n",
       "<table border=\"1\" class=\"dataframe\">\n",
       "  <thead>\n",
       "    <tr style=\"text-align: right;\">\n",
       "      <th></th>\n",
       "      <th>0</th>\n",
       "      <th>1</th>\n",
       "      <th>2</th>\n",
       "      <th>3</th>\n",
       "      <th>4</th>\n",
       "      <th>5</th>\n",
       "      <th>6</th>\n",
       "      <th>7</th>\n",
       "      <th>8</th>\n",
       "      <th>9</th>\n",
       "    </tr>\n",
       "  </thead>\n",
       "  <tbody>\n",
       "    <tr>\n",
       "      <th>0</th>\n",
       "      <td>ï»¿F400A985-F59C-42D0-8CDA-48840859F699</td>\n",
       "      <td>82902558</td>\n",
       "      <td>CO</td>\n",
       "      <td>JEFFERSON</td>\n",
       "      <td>county</td>\n",
       "      <td>criminal</td>\n",
       "      <td>2019-03-30 19:07:45.410</td>\n",
       "      <td>2019-03-30 19:08:58.313</td>\n",
       "      <td>Hit</td>\n",
       "      <td>FDI_CO_MC_COCOURTS</td>\n",
       "    </tr>\n",
       "    <tr>\n",
       "      <th>1</th>\n",
       "      <td>6DBE2AEE-2452-4046-8130-0BB1C10EB334</td>\n",
       "      <td>82902588</td>\n",
       "      <td>OK</td>\n",
       "      <td>POTTAWATOMIE</td>\n",
       "      <td>county</td>\n",
       "      <td>criminal</td>\n",
       "      <td>2019-03-30 19:07:57.053</td>\n",
       "      <td>2019-03-30 19:09:03.137</td>\n",
       "      <td>Clear</td>\n",
       "      <td>FDI_OK_MC_ODCR_SMD</td>\n",
       "    </tr>\n",
       "    <tr>\n",
       "      <th>2</th>\n",
       "      <td>A9F22C36-5C6B-4922-A583-6CCEC535B8B6</td>\n",
       "      <td>151553713</td>\n",
       "      <td>CA</td>\n",
       "      <td>NEVADA</td>\n",
       "      <td>county</td>\n",
       "      <td>criminal</td>\n",
       "      <td>2019-03-30 14:28:58.713</td>\n",
       "      <td>2019-03-30 14:50:43.620</td>\n",
       "      <td>Clear</td>\n",
       "      <td>QC_CA_NEVADA</td>\n",
       "    </tr>\n",
       "  </tbody>\n",
       "</table>\n",
       "</div>"
      ],
      "text/plain": [
       "                                         0          1   2             3  \\\n",
       "0  ï»¿F400A985-F59C-42D0-8CDA-48840859F699   82902558  CO     JEFFERSON   \n",
       "1     6DBE2AEE-2452-4046-8130-0BB1C10EB334   82902588  OK  POTTAWATOMIE   \n",
       "2     A9F22C36-5C6B-4922-A583-6CCEC535B8B6  151553713  CA        NEVADA   \n",
       "\n",
       "        4         5                        6                        7      8  \\\n",
       "0  county  criminal  2019-03-30 19:07:45.410  2019-03-30 19:08:58.313    Hit   \n",
       "1  county  criminal  2019-03-30 19:07:57.053  2019-03-30 19:09:03.137  Clear   \n",
       "2  county  criminal  2019-03-30 14:28:58.713  2019-03-30 14:50:43.620  Clear   \n",
       "\n",
       "                    9  \n",
       "0  FDI_CO_MC_COCOURTS  \n",
       "1  FDI_OK_MC_ODCR_SMD  \n",
       "2        QC_CA_NEVADA  "
      ]
     },
     "execution_count": 27,
     "metadata": {},
     "output_type": "execute_result"
    }
   ],
   "source": [
    "# Checking data\n",
    "#-----------------\n",
    "print(\"shape of Data= \", df_CSV.shape)\n",
    "df_CSV.head(3)"
   ]
  },
  {
   "cell_type": "code",
   "execution_count": 28,
   "metadata": {},
   "outputs": [],
   "source": [
    "# Assgning the column names\n",
    "#---------------------------\n",
    "df_CSV.columns = [\"ScreeningID\", \"IFN_ID\", \"State\", \"County\", \"ScreeningQualifier\", \"ScreeningType\", \"StartDateTime\", \"PublishDateTime\", \"ResultStatus\", \"Vendor\"]"
   ]
  },
  {
   "cell_type": "markdown",
   "metadata": {},
   "source": [
    "# Data Preprocessing"
   ]
  },
  {
   "cell_type": "code",
   "execution_count": 29,
   "metadata": {},
   "outputs": [
    {
     "data": {
      "text/plain": [
       "ScreeningID           0\n",
       "IFN_ID                0\n",
       "State                 0\n",
       "County                0\n",
       "ScreeningQualifier    0\n",
       "ScreeningType         0\n",
       "StartDateTime         0\n",
       "PublishDateTime       0\n",
       "ResultStatus          0\n",
       "Vendor                0\n",
       "dtype: int64"
      ]
     },
     "execution_count": 29,
     "metadata": {},
     "output_type": "execute_result"
    }
   ],
   "source": [
    "# Checking null values\n",
    "#---------------------\n",
    "df_CSV.isnull().sum()"
   ]
  },
  {
   "cell_type": "code",
   "execution_count": 30,
   "metadata": {},
   "outputs": [],
   "source": [
    "# Removing in any null values\n",
    "#----------------------------------\n",
    "df_CSV = df_CSV.dropna(subset=['State', 'County', 'StartDateTime', 'PublishDateTime'])"
   ]
  },
  {
   "cell_type": "code",
   "execution_count": 31,
   "metadata": {},
   "outputs": [],
   "source": [
    "# Merging state and County as a new feature, to avoid duplications of county with different states\n",
    "# Making all the text values as lower case, to avoid any confusion\n",
    "#------------------------------------\n",
    "df_CSV['State'] = df_CSV['State'].str.lower()\n",
    "df_CSV['State'] = df_CSV['State'].str.strip()\n",
    "\n",
    "df_CSV['County'] = df_CSV['County'].str.lower()\n",
    "df_CSV['County'] = df_CSV['County'].str.strip()\n",
    "\n",
    "df_CSV['County'] = df_CSV['County'].str.replace(' lower', '')  # To replace lower and upper county names with Base name---\n",
    "\n",
    "# Replacing Saint and Sainte with short forms-----\n",
    "df_CSV['County'] = df_CSV['County'].str.replace('saint ', 'st ')\n",
    "df_CSV['County'] = df_CSV['County'].str.replace('sainte ', 'ste ')\n",
    "\n",
    "\n",
    "# Ignoring county with 'l2 individual' name-------\n",
    "df_CSV = df_CSV[df_CSV.County != 'l2 individual']\n",
    "\n",
    "# Merging state and county-------\n",
    "df_CSV['State-County']  = df_CSV['State'] +\"_\" + df_CSV['County']\n"
   ]
  },
  {
   "cell_type": "code",
   "execution_count": 32,
   "metadata": {},
   "outputs": [],
   "source": [
    "# Repeating the above process for vendor feature\n",
    "# Vendor\n",
    "#-----------\n",
    "df_CSV['Vendor'] = df_CSV['Vendor'].str.lower()\n",
    "df_CSV['Vendor'] = df_CSV['Vendor'].str.strip()"
   ]
  },
  {
   "cell_type": "code",
   "execution_count": 33,
   "metadata": {},
   "outputs": [
    {
     "name": "stdout",
     "output_type": "stream",
     "text": [
      "ScreeningQualifier ['county']\n",
      "ScreeningType ['criminal']\n"
     ]
    }
   ],
   "source": [
    "# Product Name\n",
    "# Checking ScreeningQualifier and ScreeningType\n",
    "#------------------------------------\n",
    "df_CSV['ScreeningQualifier'] = df_CSV['ScreeningQualifier'].str.lower()\n",
    "df_CSV['ScreeningType'] = df_CSV['ScreeningType'].str.lower()\n",
    "\n",
    "print(\"ScreeningQualifier\", df_CSV[\"ScreeningQualifier\"].unique())\n",
    "print(\"ScreeningType\", df_CSV[\"ScreeningType\"].unique())\n",
    "\n",
    "# Note: getting ScreeningQualifier --> 'county' and ScreeningType --> 'Criminal"
   ]
  },
  {
   "cell_type": "code",
   "execution_count": 34,
   "metadata": {},
   "outputs": [],
   "source": [
    "# ETA ( Minutes )\n",
    "#------------------\n",
    "import datetime\n",
    "\n",
    "df_CSV['StartDateTime'] = pd.to_datetime(df_CSV['StartDateTime'])\n",
    "df_CSV['PublishDateTime'] = pd.to_datetime(df_CSV['PublishDateTime'])\n",
    "\n",
    "df_CSV['ETA'] = df_CSV['PublishDateTime'] - df_CSV['StartDateTime']\n",
    "\n",
    "df_CSV['ETA'] = df_CSV['ETA'].dt.total_seconds().div(60).astype(int)  # Converting into minutes---"
   ]
  },
  {
   "cell_type": "code",
   "execution_count": 35,
   "metadata": {
    "scrolled": true
   },
   "outputs": [
    {
     "data": {
      "image/png": "[encoded data removed]",
      "text/plain": [
       "<Figure size 2160x720 with 1 Axes>"
      ]
     },
     "metadata": {},
     "output_type": "display_data"
    }
   ],
   "source": [
    "# PLoting state wise counts\n",
    "#----------------------------\n",
    "\n",
    "data_state = pd.DataFrame(df_CSV.State.value_counts().reset_index())\n",
    "data_state.columns = ['State', 'Count']\n",
    "data_state.head()\n",
    "data_state.shape\n",
    "\n",
    "import matplotlib.pyplot as plt  \n",
    "from matplotlib import style\n",
    "\n",
    "style.use(\"ggplot\")\n",
    "\n",
    "x = data_state['State']\n",
    "y = data_state['Count']\n",
    "\n",
    "plt.figure(figsize=(30,10))\n",
    "\n",
    "plt.title(\"state wise applications\")   #Title of graph----\n",
    "plt.xlabel('State')    # x-labe\n",
    "plt.ylabel('Count')    # y-label\n",
    "\n",
    "\n",
    "# Plot the points using matplotlib \n",
    "plt.bar(x, y, color='green', label=\"state\")  # Ploting the graph---\n",
    "\n",
    "plt.legend()\n",
    "#plt.grid(True, color=\"k\")\n",
    "plt.show()\n"
   ]
  },
  {
   "cell_type": "code",
   "execution_count": 36,
   "metadata": {},
   "outputs": [
    {
     "name": "stdout",
     "output_type": "stream",
     "text": [
      "Unique State-county =  2025\n",
      "Unique State-county having less than 20 observations/requests =  321\n"
     ]
    }
   ],
   "source": [
    "# Removing Observations which are having less than 20 requests\n",
    "# To avoid bias of data\n",
    "# Later we will get more data for these many state-county combination\n",
    "#---------------------------------------------------------\n",
    "dfRemove_StateCounts = df_CSV['State-County'].value_counts()\n",
    "print(\"Unique State-county = \", dfRemove_StateCounts.shape[0])\n",
    "\n",
    "dfRemove_StateCounts = dfRemove_StateCounts[dfRemove_StateCounts < 20]\n",
    "print(\"Unique State-county having less than 20 observations/requests = \", dfRemove_StateCounts.shape[0])\n",
    "#--------------------------------------------------\n",
    "\n",
    "df_CSV = df_CSV[~df_CSV['State-County'].isin(dfRemove_StateCounts.index)]\n",
    "#df_CSV.shape"
   ]
  },
  {
   "cell_type": "code",
   "execution_count": 37,
   "metadata": {},
   "outputs": [
    {
     "name": "stdout",
     "output_type": "stream",
     "text": [
      "Total States =  50\n",
      "state_list =  ['al', 'ak', 'az', 'ar', 'ca', 'co', 'ct', 'de', 'fl', 'ga', 'hi', 'id', 'il', 'in', 'ia', 'ks', 'ky', 'la', 'me', 'md', 'ma', 'mi', 'mn', 'ms', 'mo', 'mt', 'ne', 'nv', 'nh', 'nj', 'nm', 'ny', 'nc', 'nd', 'oh', 'ok', 'or', 'pa', 'ri', 'sc', 'sd', 'tn', 'tx', 'ut', 'vt', 'va', 'wa', 'wv', 'wi', 'wy']\n"
     ]
    },
    {
     "data": {
      "text/plain": [
       "(1015405, 12)"
      ]
     },
     "execution_count": 37,
     "metadata": {},
     "output_type": "execute_result"
    }
   ],
   "source": [
    "# Cross Checking the staes name from our glossary list\n",
    "# ----------------------------------------\n",
    "\n",
    "df_State_County_CSV = pd.read_csv('../CSV/US_StateCounty.csv')\n",
    "\n",
    "\n",
    "# Checking for valid State -----------------------\n",
    "\n",
    "state_list = df_State_County_CSV['Abbr'].unique()\n",
    "\n",
    "print(\"Total States = \", len(state_list))\n",
    "\n",
    "# Keepig only state list which are valid----\n",
    "\n",
    "#state_list = [str(item).lower() for item in state_list]\n",
    "state_list = [x.lower() for x in state_list]\n",
    "\n",
    "print(\"state_list = \", state_list)\n",
    "\n",
    "df_CSV = df_CSV[df_CSV['State'].isin(state_list)]\n",
    "\n",
    "\n",
    "df_CSV.shape"
   ]
  },
  {
   "cell_type": "code",
   "execution_count": 38,
   "metadata": {},
   "outputs": [
    {
     "name": "stdout",
     "output_type": "stream",
     "text": [
      "Not matching state and county from Glossary----\n"
     ]
    },
    {
     "data": {
      "text/html": [
       "<div>\n",
       "<style scoped>\n",
       "    .dataframe tbody tr th:only-of-type {\n",
       "        vertical-align: middle;\n",
       "    }\n",
       "\n",
       "    .dataframe tbody tr th {\n",
       "        vertical-align: top;\n",
       "    }\n",
       "\n",
       "    .dataframe thead th {\n",
       "        text-align: right;\n",
       "    }\n",
       "</style>\n",
       "<table border=\"1\" class=\"dataframe\">\n",
       "  <thead>\n",
       "    <tr style=\"text-align: right;\">\n",
       "      <th></th>\n",
       "      <th>State</th>\n",
       "      <th>County</th>\n",
       "    </tr>\n",
       "  </thead>\n",
       "  <tbody>\n",
       "  </tbody>\n",
       "</table>\n",
       "</div>"
      ],
      "text/plain": [
       "Empty DataFrame\n",
       "Columns: [State, County]\n",
       "Index: []"
      ]
     },
     "execution_count": 38,
     "metadata": {},
     "output_type": "execute_result"
    }
   ],
   "source": [
    "# Checking for County names from our Glossary\n",
    "#-------------------------------------------\n",
    "\n",
    "lsCounty = df_State_County_CSV['County']\n",
    "lsCounty = [item.lower() for item in lsCounty]\n",
    "\n",
    "df_Missing_County = df_CSV[~df_CSV['County'].isin(lsCounty)]\n",
    "\n",
    "df_Missing_County['County'].unique()\n",
    "\n",
    "print(\"Not matching state and county from Glossary----\")\n",
    "df_Missing_County[['State','County']]\n",
    "#df_Missing_County['County'].unique()"
   ]
  },
  {
   "cell_type": "code",
   "execution_count": 39,
   "metadata": {},
   "outputs": [
    {
     "name": "stdout",
     "output_type": "stream",
     "text": [
      "ScreeningType and counts =  criminal    1015405\n",
      "Name: ScreeningType, dtype: int64\n"
     ]
    }
   ],
   "source": [
    "# Analyzing Different Product ex: Criminal, Civil etc\n",
    "# Note: Currently we are predicting ETA for Criminal verification only\n",
    "#-------------------------------------------\n",
    "print(\"ScreeningType and counts = \", df_CSV[\"ScreeningType\"].value_counts())\n",
    "\n",
    "try:\n",
    "    df_CSV = df_CSV[df_CSV[\"ScreeningType\"]==\"criminal\"]\n",
    "\n",
    "except:\n",
    "    print(\"No criminal data found\")\n",
    "\n"
   ]
  },
  {
   "cell_type": "code",
   "execution_count": 40,
   "metadata": {},
   "outputs": [
    {
     "data": {
      "image/png": "[encoded data removed]",
      "text/plain": [
       "<Figure size 504x360 with 1 Axes>"
      ]
     },
     "metadata": {},
     "output_type": "display_data"
    }
   ],
   "source": [
    "# Visualize prism results Percentage(Hit, Clear, Request)\n",
    "#-------------------------------------------------------\n",
    "ax = df_CSV['ResultStatus'].value_counts().plot(kind='bar', figsize=(7,5),\n",
    "                                                  color=\"blue\", fontsize=11);\n",
    "\n",
    "ax.set_alpha(0.5)\n",
    "ax.set_title(\"Results Status\", fontsize=18)\n",
    "ax.set_ylabel(\"Number of Requests\", fontsize=18);\n",
    "#ax.set_yticks([0, 5, 10, 15, 20, 25, 30, 35, 40])\n",
    "\n",
    "# create a list to collect the plt.patches data\n",
    "totals = []\n",
    "\n",
    "# find the values and append to list\n",
    "for i in ax.patches:\n",
    "    totals.append(i.get_height())\n",
    "    \n",
    "    \n",
    "# set individual bar lables using above list\n",
    "total = sum(totals)\n",
    "total\n",
    "\n",
    "# set individual bar lables using above list\n",
    "for i in ax.patches:\n",
    "    # get_x pulls left or right; get_height pushes up or down\n",
    "    ax.text(i.get_x()+.12, i.get_height()+10, \\\n",
    "            str(round((i.get_height()/total)*100, 2))+'%', fontsize=14,\n",
    "                color='black')\n",
    "\n",
    "\n"
   ]
  },
  {
   "cell_type": "markdown",
   "metadata": {},
   "source": [
    "# Split Hit and Clear"
   ]
  },
  {
   "cell_type": "code",
   "execution_count": 41,
   "metadata": {},
   "outputs": [
    {
     "name": "stdout",
     "output_type": "stream",
     "text": [
      "Unique =  ['Hit' 'Clear' 'Review']\n",
      "df_CSV =  (1015405, 12)\n",
      "df_CSV_Clear =  (730496, 12)\n",
      "df_CSV_Hit =  (175640, 12)\n",
      "df_CSV_Review =  (109269, 12)\n"
     ]
    }
   ],
   "source": [
    "# Seprating The clear and hit datasets\n",
    "#---------------------------------\n",
    "print(\"Unique = \", df_CSV['ResultStatus'].unique())\n",
    "\n",
    "df_CSV['ResultStatus'] = df_CSV['ResultStatus'].str.lower()\n",
    "\n",
    "df_CSV_Clear = df_CSV[df_CSV['ResultStatus']== 'clear']\n",
    "df_CSV_Hit = df_CSV[df_CSV['ResultStatus']== 'hit']\n",
    "df_CSV_Review = df_CSV[df_CSV['ResultStatus']== 'review']\n",
    "\n",
    "print(\"df_CSV = \", df_CSV.shape)\n",
    "print(\"df_CSV_Clear = \", df_CSV_Clear.shape)\n",
    "print(\"df_CSV_Hit = \", df_CSV_Hit.shape)\n",
    "print(\"df_CSV_Review = \", df_CSV_Review.shape)"
   ]
  },
  {
   "cell_type": "code",
   "execution_count": 42,
   "metadata": {},
   "outputs": [],
   "source": [
    "# Saving Clear, Hit and Review CSV\n",
    "#--------------------------------------\n",
    "\n",
    "df_CSV_Clear.to_csv('../CSV/Prism/prism_clear.csv', index=False)\n",
    "df_CSV_Hit.to_csv('../CSV/Prism/prism_hit.csv', index=False)\n",
    "df_CSV_Review.to_csv('../CSV/Prism/prism_review.csv', index=False)\n"
   ]
  },
  {
   "cell_type": "code",
   "execution_count": 584,
   "metadata": {},
   "outputs": [],
   "source": [
    "# -------------------------------------"
   ]
  },
  {
   "cell_type": "markdown",
   "metadata": {},
   "source": [
    "# Save The Results in State-County Excel"
   ]
  },
  {
   "cell_type": "code",
   "execution_count": 43,
   "metadata": {},
   "outputs": [
    {
     "data": {
      "text/html": [
       "<div>\n",
       "<style scoped>\n",
       "    .dataframe tbody tr th:only-of-type {\n",
       "        vertical-align: middle;\n",
       "    }\n",
       "\n",
       "    .dataframe tbody tr th {\n",
       "        vertical-align: top;\n",
       "    }\n",
       "\n",
       "    .dataframe thead th {\n",
       "        text-align: right;\n",
       "    }\n",
       "</style>\n",
       "<table border=\"1\" class=\"dataframe\">\n",
       "  <thead>\n",
       "    <tr style=\"text-align: right;\">\n",
       "      <th></th>\n",
       "      <th>State</th>\n",
       "      <th>County</th>\n",
       "      <th>Abbr</th>\n",
       "    </tr>\n",
       "  </thead>\n",
       "  <tbody>\n",
       "    <tr>\n",
       "      <th>0</th>\n",
       "      <td>Alabama</td>\n",
       "      <td>Autauga</td>\n",
       "      <td>AL</td>\n",
       "    </tr>\n",
       "    <tr>\n",
       "      <th>1</th>\n",
       "      <td>Alabama</td>\n",
       "      <td>Baldwin</td>\n",
       "      <td>AL</td>\n",
       "    </tr>\n",
       "  </tbody>\n",
       "</table>\n",
       "</div>"
      ],
      "text/plain": [
       "     State   County Abbr\n",
       "0  Alabama  Autauga   AL\n",
       "1  Alabama  Baldwin   AL"
      ]
     },
     "execution_count": 43,
     "metadata": {},
     "output_type": "execute_result"
    }
   ],
   "source": [
    "df_State_County_CSV = pd.read_csv('../CSV/US_StateCounty.csv')\n",
    "df_State_County_CSV.head(2)"
   ]
  },
  {
   "cell_type": "code",
   "execution_count": 48,
   "metadata": {},
   "outputs": [],
   "source": [
    "# To convert into lower case\n",
    "#--------------------------------\n",
    "df_State_County_CSV['State'] = df_State_County_CSV['State'].str.lower()\n",
    "df_State_County_CSV['State'] = df_State_County_CSV['State'].str.strip()\n",
    "\n",
    "df_State_County_CSV['County'] = df_State_County_CSV['County'].str.lower()\n",
    "df_State_County_CSV['County'] = df_State_County_CSV['County'].str.strip()\n",
    "\n",
    "df_State_County_CSV['Abbr'] = df_State_County_CSV['Abbr'].str.lower()\n",
    "df_State_County_CSV['Abbr'] = df_State_County_CSV['Abbr'].str.strip()\n",
    "\n",
    "\n",
    "df_State_County_CSV['State-County']= df_State_County_CSV['Abbr'] + \"_\" + df_State_County_CSV['County']"
   ]
  },
  {
   "cell_type": "code",
   "execution_count": 49,
   "metadata": {},
   "outputs": [],
   "source": [
    "df_State_County_CSV.to_csv('../CSV/Prism/Output/prism.csv', index=False)"
   ]
  },
  {
   "cell_type": "code",
   "execution_count": null,
   "metadata": {},
   "outputs": [],
   "source": []
  }
 ],
 "metadata": {
  "kernelspec": {
   "display_name": "Python 3",
   "language": "python",
   "name": "python3"
  },
  "language_info": {
   "codemirror_mode": {
    "name": "ipython",
    "version": 3
   },
   "file_extension": ".py",
   "mimetype": "text/x-python",
   "name": "python",
   "nbconvert_exporter": "python",
   "pygments_lexer": "ipython3",
   "version": "3.7.1"
  }
 },
 "nbformat": 4,
 "nbformat_minor": 2
}
