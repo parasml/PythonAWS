{
 "cells": [
  {
   "cell_type": "markdown",
   "metadata": {},
   "source": [
    "# To predict Gender"
   ]
  },
  {
   "cell_type": "code",
   "execution_count": 1,
   "metadata": {},
   "outputs": [],
   "source": [
    "import gender_guesser.detector as gender"
   ]
  },
  {
   "cell_type": "code",
   "execution_count": 7,
   "metadata": {},
   "outputs": [
    {
     "name": "stdout",
     "output_type": "stream",
     "text": [
      "mostly_male\n"
     ]
    }
   ],
   "source": [
    "d = gender.Detector(case_sensitive=False)\n",
    "\n",
    "print(d.get_gender(u\"Sam\"))"
   ]
  },
  {
   "cell_type": "code",
   "execution_count": null,
   "metadata": {},
   "outputs": [],
   "source": [
    "# Return \"unknown\" when name is not found and \"andy\" when it is valid equally for both male and female."
   ]
  },
  {
   "cell_type": "code",
   "execution_count": null,
   "metadata": {},
   "outputs": [],
   "source": [
    "#The result will be one of \n",
    "    #1) unknown - not found\n",
    "    #2) andy (androgynous) - Same ratio for male and female\n",
    "    #3)male\n",
    "    #4)female\n",
    "    #5) mostly_male\n",
    "    #6) mostly_female"
   ]
  },
  {
   "cell_type": "code",
   "execution_count": null,
   "metadata": {},
   "outputs": [],
   "source": [
    "# Load Male, Female files----"
   ]
  },
  {
   "cell_type": "code",
   "execution_count": 18,
   "metadata": {},
   "outputs": [],
   "source": [
    "txtMale = open(\"male.txt\", 'r')\n",
    "strtxtMale = txtMale.read()\n",
    "#print(\"strtxtMale = \", strtxtMale)\n",
    "\n",
    "liMale = list(strtxtMale.split(\"\\n\")) \n",
    "#liMale"
   ]
  },
  {
   "cell_type": "code",
   "execution_count": 22,
   "metadata": {},
   "outputs": [],
   "source": [
    "lsOutput = []\n",
    "for x in liMale:\n",
    "    #print(d.get_gender(x))\n",
    "    lsOutput.append(d.get_gender(x))"
   ]
  },
  {
   "cell_type": "code",
   "execution_count": 31,
   "metadata": {},
   "outputs": [
    {
     "name": "stdout",
     "output_type": "stream",
     "text": [
      "unique ['andy' 'female' 'male' 'mostly_female' 'mostly_male' 'unknown']\n",
      "counts [  55  121 1602   64  116  986]\n"
     ]
    }
   ],
   "source": [
    "import numpy as np\n",
    "# Output---\n",
    "lsOutput\n",
    "\n",
    "np.unique(lsOutput)\n",
    "unique, counts = np.unique(lsOutput, return_counts=True)\n",
    "print(\"unique\", unique)\n",
    "print(\"counts\", counts)"
   ]
  },
  {
   "cell_type": "code",
   "execution_count": 35,
   "metadata": {},
   "outputs": [
    {
     "data": {
      "text/plain": [
       "58.35597826086957"
      ]
     },
     "execution_count": 35,
     "metadata": {},
     "output_type": "execute_result"
    }
   ],
   "source": [
    "percent = ((1602+116)/len(lsOutput))*100\n",
    "percent"
   ]
  },
  {
   "cell_type": "code",
   "execution_count": null,
   "metadata": {},
   "outputs": [],
   "source": []
  },
  {
   "cell_type": "code",
   "execution_count": 39,
   "metadata": {},
   "outputs": [
    {
     "name": "stdout",
     "output_type": "stream",
     "text": [
      "name\n",
      "joao    M\n",
      "Name: gender, dtype: object\n"
     ]
    }
   ],
   "source": [
    "from pygenderbr import Gender\n",
    "gapi = Gender()\n",
    "g = gapi.getgender('joao')\n",
    "print(g)"
   ]
  },
  {
   "cell_type": "code",
   "execution_count": 40,
   "metadata": {},
   "outputs": [],
   "source": [
    "txtMale = open(\"male.txt\", 'r')\n",
    "strtxtMale = txtMale.read()\n",
    "#print(\"strtxtMale = \", strtxtMale)\n",
    "\n",
    "liMale = list(strtxtMale.split(\"\\n\")) \n",
    "#liMale"
   ]
  },
  {
   "cell_type": "code",
   "execution_count": 42,
   "metadata": {},
   "outputs": [],
   "source": [
    "lsOutput = []\n",
    "for x in liMale:\n",
    "    #print(d.get_gender(x))\n",
    "    #lsOutput.append(d.get_gender(x))\n",
    "    lsOutput.append(d.get_gender(x))\n"
   ]
  },
  {
   "cell_type": "code",
   "execution_count": 44,
   "metadata": {},
   "outputs": [
    {
     "name": "stdout",
     "output_type": "stream",
     "text": [
      "unique ['andy' 'female' 'male' 'mostly_female' 'mostly_male' 'unknown']\n",
      "counts [  55  121 1602   64  116  986]\n"
     ]
    }
   ],
   "source": [
    "import numpy as np\n",
    "# Output---\n",
    "lsOutput\n",
    "\n",
    "np.unique(lsOutput)\n",
    "unique, counts = np.unique(lsOutput, return_counts=True)\n",
    "print(\"unique\", unique)\n",
    "print(\"counts\", counts)"
   ]
  },
  {
   "cell_type": "code",
   "execution_count": null,
   "metadata": {},
   "outputs": [],
   "source": []
  },
  {
   "cell_type": "code",
   "execution_count": null,
   "metadata": {},
   "outputs": [],
   "source": []
  }
 ],
 "metadata": {
  "kernelspec": {
   "display_name": "Python 3",
   "language": "python",
   "name": "python3"
  },
  "language_info": {
   "codemirror_mode": {
    "name": "ipython",
    "version": 3
   },
   "file_extension": ".py",
   "mimetype": "text/x-python",
   "name": "python",
   "nbconvert_exporter": "python",
   "pygments_lexer": "ipython3",
   "version": "3.7.1"
  }
 },
 "nbformat": 4,
 "nbformat_minor": 2
}
