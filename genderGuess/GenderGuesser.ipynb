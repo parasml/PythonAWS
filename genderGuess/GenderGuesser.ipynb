{
 "cells": [
  {
   "cell_type": "code",
   "execution_count": null,
   "metadata": {},
   "outputs": [],
   "source": [
    "# https://github.com/topics/gender-from-name"
   ]
  },
  {
   "cell_type": "code",
   "execution_count": null,
   "metadata": {},
   "outputs": [],
   "source": [
    "# Predict gender by passing the name\n",
    "#-------------------------------------\n",
    "# https://pypi.org/project/gender-guesser/"
   ]
  },
  {
   "cell_type": "markdown",
   "metadata": {},
   "source": [
    "# Gender Guesser----------------"
   ]
  },
  {
   "cell_type": "code",
   "execution_count": 1,
   "metadata": {},
   "outputs": [],
   "source": [
    "import gender_guesser.detector as gender"
   ]
  },
  {
   "cell_type": "code",
   "execution_count": 10,
   "metadata": {},
   "outputs": [
    {
     "name": "stdout",
     "output_type": "stream",
     "text": [
      "1 = male\n",
      "1 = unknown\n",
      "2 = female\n",
      "3 = andy\n"
     ]
    }
   ],
   "source": [
    "#d = gender.Detector()\n",
    "d = gender.Detector(case_sensitive=False)\n",
    "print(\"1 =\", d.get_gender(\"Bob\"))\n",
    "print(\"1 =\", d.get_gender(\"Mrigank\"))\n",
    "print(\"2 =\", d.get_gender(u\"Sally\"))\n",
    "print(\"3 =\", d.get_gender(u\"Pauley\")) # should be androgynous"
   ]
  },
  {
   "cell_type": "markdown",
   "metadata": {},
   "source": [
    "# Gender Detector------------"
   ]
  },
  {
   "cell_type": "code",
   "execution_count": 15,
   "metadata": {},
   "outputs": [
    {
     "ename": "ImportError",
     "evalue": "cannot import name 'GenderDetector' from 'gender_detector' (C:\\Users\\prashan.bawari\\AppData\\Local\\Continuum\\anaconda3\\lib\\site-packages\\gender_detector\\__init__.py)",
     "output_type": "error",
     "traceback": [
      "\u001b[1;31m---------------------------------------------------------------------------\u001b[0m",
      "\u001b[1;31mImportError\u001b[0m                               Traceback (most recent call last)",
      "\u001b[1;32m<ipython-input-15-a30a2d17f8be>\u001b[0m in \u001b[0;36m<module>\u001b[1;34m\u001b[0m\n\u001b[1;32m----> 1\u001b[1;33m \u001b[1;32mfrom\u001b[0m \u001b[0mgender_detector\u001b[0m \u001b[1;32mimport\u001b[0m \u001b[0mGenderDetector\u001b[0m\u001b[1;33m\u001b[0m\u001b[1;33m\u001b[0m\u001b[0m\n\u001b[0m",
      "\u001b[1;31mImportError\u001b[0m: cannot import name 'GenderDetector' from 'gender_detector' (C:\\Users\\prashan.bawari\\AppData\\Local\\Continuum\\anaconda3\\lib\\site-packages\\gender_detector\\__init__.py)"
     ]
    }
   ],
   "source": [
    "# Still int Beta version (NOT TO BE USED)"
   ]
  },
  {
   "cell_type": "code",
   "execution_count": 16,
   "metadata": {},
   "outputs": [
    {
     "ename": "NameError",
     "evalue": "name 'GenderDetector' is not defined",
     "output_type": "error",
     "traceback": [
      "\u001b[1;31m---------------------------------------------------------------------------\u001b[0m",
      "\u001b[1;31mNameError\u001b[0m                                 Traceback (most recent call last)",
      "\u001b[1;32m<ipython-input-16-f2ac8d2ad859>\u001b[0m in \u001b[0;36m<module>\u001b[1;34m\u001b[0m\n\u001b[1;32m----> 1\u001b[1;33m \u001b[0mdetector\u001b[0m \u001b[1;33m=\u001b[0m \u001b[0mGenderDetector\u001b[0m\u001b[1;33m(\u001b[0m\u001b[1;34m'us'\u001b[0m\u001b[1;33m)\u001b[0m \u001b[1;31m# It can also be ar, uk, uy.\u001b[0m\u001b[1;33m\u001b[0m\u001b[1;33m\u001b[0m\u001b[0m\n\u001b[0m\u001b[0;32m      2\u001b[0m \u001b[0mdetector\u001b[0m\u001b[1;33m.\u001b[0m\u001b[0mguess\u001b[0m\u001b[1;33m(\u001b[0m\u001b[1;34m'Marcos'\u001b[0m\u001b[1;33m)\u001b[0m \u001b[1;31m# => 'male'\u001b[0m\u001b[1;33m\u001b[0m\u001b[1;33m\u001b[0m\u001b[0m\n",
      "\u001b[1;31mNameError\u001b[0m: name 'GenderDetector' is not defined"
     ]
    }
   ],
   "source": [
    "from gender_detector import GenderDetector\n",
    "\n",
    "detector = GenderDetector('us') # It can also be ar, uk, uy.\n",
    "detector.guess('Marcos') # => 'male'"
   ]
  },
  {
   "cell_type": "markdown",
   "metadata": {},
   "source": [
    "# genderize "
   ]
  },
  {
   "cell_type": "code",
   "execution_count": null,
   "metadata": {},
   "outputs": [],
   "source": [
    "# https://pypi.org/project/Genderize/"
   ]
  },
  {
   "cell_type": "code",
   "execution_count": 24,
   "metadata": {},
   "outputs": [
    {
     "name": "stdout",
     "output_type": "stream",
     "text": [
      "[{'name': 'James', 'gender': 'male', 'probability': 0.99, 'count': 6359}, {'name': 'Eva', 'gender': 'female', 'probability': 1.0, 'count': 1715}, {'name': 'Thunderhorse', 'gender': None}, {'name': 'Prashant', 'gender': 'male', 'probability': 1.0, 'count': 198}, {'name': 'tejesh', 'gender': None}, {'name': 'Deep', 'gender': 'male', 'probability': 0.82, 'count': 78}, {'name': 'Deepa', 'gender': 'female', 'probability': 1.0, 'count': 99}]\n"
     ]
    }
   ],
   "source": [
    "from genderize import Genderize\n",
    "\n",
    "print(Genderize().get(['James', 'Eva', 'Thunderhorse', 'Prashant', 'tejesh', 'Deep', 'Deepa']))"
   ]
  },
  {
   "cell_type": "code",
   "execution_count": null,
   "metadata": {},
   "outputs": [],
   "source": []
  },
  {
   "cell_type": "code",
   "execution_count": null,
   "metadata": {},
   "outputs": [],
   "source": []
  },
  {
   "cell_type": "code",
   "execution_count": null,
   "metadata": {},
   "outputs": [],
   "source": []
  },
  {
   "cell_type": "code",
   "execution_count": null,
   "metadata": {},
   "outputs": [],
   "source": []
  },
  {
   "cell_type": "code",
   "execution_count": null,
   "metadata": {},
   "outputs": [],
   "source": []
  },
  {
   "cell_type": "code",
   "execution_count": null,
   "metadata": {},
   "outputs": [],
   "source": []
  },
  {
   "cell_type": "code",
   "execution_count": null,
   "metadata": {},
   "outputs": [],
   "source": []
  },
  {
   "cell_type": "code",
   "execution_count": null,
   "metadata": {},
   "outputs": [],
   "source": []
  },
  {
   "cell_type": "code",
   "execution_count": null,
   "metadata": {},
   "outputs": [],
   "source": []
  }
 ],
 "metadata": {
  "kernelspec": {
   "display_name": "Python 3",
   "language": "python",
   "name": "python3"
  },
  "language_info": {
   "codemirror_mode": {
    "name": "ipython",
    "version": 3
   },
   "file_extension": ".py",
   "mimetype": "text/x-python",
   "name": "python",
   "nbconvert_exporter": "python",
   "pygments_lexer": "ipython3",
   "version": "3.7.1"
  }
 },
 "nbformat": 4,
 "nbformat_minor": 2
}
